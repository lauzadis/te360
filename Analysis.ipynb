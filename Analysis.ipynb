{
 "cells": [
  {
   "cell_type": "code",
   "execution_count": 48,
   "metadata": {},
   "outputs": [],
   "source": [
    "from datetime import datetime\n",
    "import shapely.geometry\n",
    "import pymongo\n",
    "client = pymongo.MongoClient()"
   ]
  },
  {
   "cell_type": "code",
   "execution_count": 80,
   "metadata": {},
   "outputs": [],
   "source": [
    "loop = shapely.geometry.box(-87.638588,41.875803,-87.62464,41.887082)"
   ]
  },
  {
   "cell_type": "markdown",
   "metadata": {},
   "source": [
    "### Inside of the Loop"
   ]
  },
  {
   "cell_type": "code",
   "execution_count": 69,
   "metadata": {
    "scrolled": true
   },
   "outputs": [],
   "source": [
    "inside_loop = client.te360.divvy.find({\n",
    "    \"$and\": [\n",
    "        {\n",
    "            \"start_lat\": { \"$gte\": 41.875803, \"$lte\": 41.918306 },\n",
    "            \"start_lon\": { \"$gte\": -87.638588, \"$lte\": -87.62464 },\n",
    "            \"end_lat\": { \"$gte\": 41.875803, \"$lte\": 41.918306 },\n",
    "            \"end_lon\": { \"$gte\": -87.638588, \"$lte\": -87.62464 }   \n",
    "        }\n",
    "    ]\n",
    "})\n",
    "\n",
    "total_time_seconds = 0\n",
    "total_rides = 0\n",
    "\n",
    "for ride in inside_loop:\n",
    "    start = datetime.strptime(ride[\"start\"], \"%Y-%m-%d %H:%M:%S\")\n",
    "    end = datetime.strptime(ride[\"end\"], \"%Y-%m-%d %H:%M:%S\")\n",
    "    total_time_seconds += end.timestamp() - start.timestamp()\n",
    "    total_rides += 1"
   ]
  },
  {
   "cell_type": "code",
   "execution_count": 70,
   "metadata": {},
   "outputs": [
    {
     "name": "stdout",
     "output_type": "stream",
     "text": [
      "Total seconds ridden within the Loop since January 1, 2020: 459824788.0\n",
      "Total rides taken within the Loop since January 1, 2020: 333232\n"
     ]
    }
   ],
   "source": [
    "print(\"Total seconds ridden within the Loop since January 1, 2020:\", total_time_seconds)\n",
    "print(\"Total rides taken within the Loop since January 1, 2020:\", total_rides)"
   ]
  },
  {
   "cell_type": "code",
   "execution_count": 71,
   "metadata": {},
   "outputs": [
    {
     "name": "stdout",
     "output_type": "stream",
     "text": [
      "The average ride time was: 1379.8938517309261\n"
     ]
    }
   ],
   "source": [
    "average_ride_time = total_time_seconds / total_rides\n",
    "print(\"The average ride time was:\", average_ride_time)"
   ]
  },
  {
   "cell_type": "markdown",
   "metadata": {},
   "source": [
    "### Outside of the Loop"
   ]
  },
  {
   "cell_type": "code",
   "execution_count": 76,
   "metadata": {},
   "outputs": [],
   "source": [
    "outside_loop = client.te360.divvy.find({\n",
    "    \"$or\": [\n",
    "        {\n",
    "            \"start_lat\": { \"$lte\": 41.875803 },\n",
    "            \"start_lat\": { \"$gte\": 41.918306 },\n",
    "            \"end_lat\": { \"$lte\": 41.875803 },\n",
    "            \"end_lat\": { \"$gte\": 41.918306 },\n",
    "            \n",
    "            \"start_lon\": { \"$gte\": -87.62464 },\n",
    "            \"start_lon\": { \"$lte\": -87.638588 },\n",
    "            \"end_lon\": { \"$gte\": -87.62464 },\n",
    "            \"end_lon\": { \"$lte\": -87.638588 }\n",
    "        }\n",
    "    ]\n",
    "})\n",
    "\n",
    "total_time_seconds_outside = 0\n",
    "total_rides_outside = 0\n",
    "\n",
    "for ride in outside_loop:\n",
    "    start = datetime.strptime(ride[\"start\"], \"%Y-%m-%d %H:%M:%S\")\n",
    "    end = datetime.strptime(ride[\"end\"], \"%Y-%m-%d %H:%M:%S\")\n",
    "    total_time_seconds_outside += end.timestamp() - start.timestamp()\n",
    "    total_rides_outside += 1"
   ]
  },
  {
   "cell_type": "code",
   "execution_count": 81,
   "metadata": {},
   "outputs": [
    {
     "name": "stdout",
     "output_type": "stream",
     "text": [
      "Total seconds ridden outside the Loop since January 1, 2020: 1051677833.0\n",
      "Total rides taken outside the Loop since January 1, 2020: 870017\n"
     ]
    }
   ],
   "source": [
    "print(\"Total seconds ridden outside the Loop since January 1, 2020:\", total_time_seconds_outside)\n",
    "print(\"Total rides taken outside the Loop since January 1, 2020:\", total_rides_outside)"
   ]
  },
  {
   "cell_type": "code",
   "execution_count": 82,
   "metadata": {},
   "outputs": [
    {
     "name": "stdout",
     "output_type": "stream",
     "text": [
      "The average ride time outside the Loop was: 1208.8014751435892\n"
     ]
    }
   ],
   "source": [
    "average_ride_time_outside = total_time_seconds_outside / total_rides_outside\n",
    "print(\"The average ride time outside the Loop was:\", average_ride_time_outside)"
   ]
  },
  {
   "cell_type": "code",
   "execution_count": null,
   "metadata": {},
   "outputs": [],
   "source": []
  }
 ],
 "metadata": {
  "kernelspec": {
   "display_name": "Python 3",
   "language": "python",
   "name": "python3"
  },
  "language_info": {
   "codemirror_mode": {
    "name": "ipython",
    "version": 3
   },
   "file_extension": ".py",
   "mimetype": "text/x-python",
   "name": "python",
   "nbconvert_exporter": "python",
   "pygments_lexer": "ipython3",
   "version": "3.8.5"
  }
 },
 "nbformat": 4,
 "nbformat_minor": 4
}
