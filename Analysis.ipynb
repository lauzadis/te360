{
 "cells": [
  {
   "cell_type": "code",
   "execution_count": 48,
   "metadata": {},
   "outputs": [],
   "source": [
    "from datetime import datetime\n",
    "import shapely.geometry\n",
    "import pymongo\n",
    "client = pymongo.MongoClient()"
   ]
  },
  {
   "cell_type": "code",
   "execution_count": 13,
   "metadata": {},
   "outputs": [],
   "source": [
    "loop = shapely.geometry.box(-87.638588,41.875803,-87.62464,41.887082)"
   ]
  },
  {
   "cell_type": "code",
   "execution_count": null,
   "metadata": {},
   "outputs": [],
   "source": [
    "client.te360."
   ]
  },
  {
   "cell_type": "code",
   "execution_count": 20,
   "metadata": {},
   "outputs": [
    {
     "data": {
      "text/plain": [
       "{'_id': 'C763BA9D0F6ED827',\n",
       " 'type': 'docked_bike',\n",
       " 'rider': 'member',\n",
       " 'start': '2020-11-25 18:53:00',\n",
       " 'start_station': 'Broadway & Barry Ave',\n",
       " 'start_station_id': 300.0,\n",
       " 'start_lat': 41.937582,\n",
       " 'start_lon': -87.644097,\n",
       " 'end': '2020-11-25 19:13:39',\n",
       " 'end_station': 'Clark St & Armitage Ave',\n",
       " 'end_station_id': 94.0,\n",
       " 'end_lat': 41.918306,\n",
       " 'end_lon': -87.636282}"
      ]
     },
     "execution_count": 20,
     "metadata": {},
     "output_type": "execute_result"
    }
   ],
   "source": [
    "client.te360.divvy.find_one({\"_id\": \"C763BA9D0F6ED827\"})"
   ]
  },
  {
   "cell_type": "markdown",
   "metadata": {},
   "source": [
    "### "
   ]
  },
  {
   "cell_type": "code",
   "execution_count": 61,
   "metadata": {
    "scrolled": true
   },
   "outputs": [],
   "source": [
    "inside_loop = client.te360.divvy.find({\n",
    "    \"$and\": [\n",
    "        {\n",
    "            \"start_lat\": { \"$gte\": 41.875803},\n",
    "            \"start_lon\": { \"$gte\": -87.638588},\n",
    "            \"end_lat\": { \"$lte\": 41.918306},\n",
    "            \"end_lon\": { \"$lte\": -87.62464}   \n",
    "        }\n",
    "    ]\n",
    "})\n",
    "\n",
    "total_time_seconds = 0\n",
    "total_rides = 0\n",
    "\n",
    "for ride in inside_loop:\n",
    "    start = datetime.strptime(ride[\"start\"], \"%Y-%m-%d %H:%M:%S\")\n",
    "    end = datetime.strptime(ride[\"end\"], \"%Y-%m-%d %H:%M:%S\")\n",
    "    total_time_seconds += end.timestamp() - start.timestamp()\n",
    "    total_rides += 1"
   ]
  },
  {
   "cell_type": "code",
   "execution_count": 63,
   "metadata": {},
   "outputs": [
    {
     "name": "stdout",
     "output_type": "stream",
     "text": [
      "Total seconds ridden within the Loop since January 1, 2020: 1131284358.0\n",
      "Total rides taken within the Loop since January 1, 2020: 739902\n"
     ]
    }
   ],
   "source": [
    "print(\"Total seconds ridden within the Loop since January 1, 2020:\", total_time_seconds)\n",
    "print(\"Total rides taken within the Loop since January 1, 2020:\", total_rides)"
   ]
  },
  {
   "cell_type": "code",
   "execution_count": 65,
   "metadata": {},
   "outputs": [
    {
     "name": "stdout",
     "output_type": "stream",
     "text": [
      "The average ride time was: 1528.9651305172847\n"
     ]
    }
   ],
   "source": [
    "average_ride_time = total_time_seconds / total_rides\n",
    "print(\"The average ride time was:\", average_ride_time)"
   ]
  },
  {
   "cell_type": "markdown",
   "metadata": {},
   "source": [
    "### Outside of the Loop"
   ]
  },
  {
   "cell_type": "code",
   "execution_count": null,
   "metadata": {},
   "outputs": [],
   "source": []
  }
 ],
 "metadata": {
  "kernelspec": {
   "display_name": "Python 3",
   "language": "python",
   "name": "python3"
  },
  "language_info": {
   "codemirror_mode": {
    "name": "ipython",
    "version": 3
   },
   "file_extension": ".py",
   "mimetype": "text/x-python",
   "name": "python",
   "nbconvert_exporter": "python",
   "pygments_lexer": "ipython3",
   "version": "3.8.5"
  }
 },
 "nbformat": 4,
 "nbformat_minor": 4
}
