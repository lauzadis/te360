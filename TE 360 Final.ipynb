{
 "cells": [
  {
   "cell_type": "code",
   "execution_count": 25,
   "metadata": {},
   "outputs": [],
   "source": [
    "import pandas as pd\n",
    "import glob\n",
    "import os\n",
    "import pymongo"
   ]
  },
  {
   "cell_type": "code",
   "execution_count": 26,
   "metadata": {},
   "outputs": [],
   "source": [
    "files = glob.glob(\"./divvy/*/*.csv\")\n",
    "files = sorted([f for f in files if \"2020\" in os.path.basename(f) or \"2021\" in os.path.basename(f)])"
   ]
  },
  {
   "cell_type": "code",
   "execution_count": 27,
   "metadata": {},
   "outputs": [],
   "source": [
    "for file in files:\n",
    "    frame = pd.read_csv(file)\n",
    "    frame\n",
    "    break"
   ]
  },
  {
   "cell_type": "code",
   "execution_count": 28,
   "metadata": {},
   "outputs": [
    {
     "data": {
      "text/plain": [
       "MongoClient(host=['localhost:27017'], document_class=dict, tz_aware=False, connect=True)"
      ]
     },
     "execution_count": 28,
     "metadata": {},
     "output_type": "execute_result"
    }
   ],
   "source": [
    "client = pymongo.MongoClient()\n",
    "client"
   ]
  },
  {
   "cell_type": "code",
   "execution_count": 62,
   "metadata": {},
   "outputs": [
    {
     "name": "stdout",
     "output_type": "stream",
     "text": [
      "Inserted 84776 rides from 202004-divvy-tripdata.csv.\n",
      "Inserted 200274 rides from 202005-divvy-tripdata.csv.\n",
      "Inserted 343005 rides from 202006-divvy-tripdata.csv.\n",
      "Inserted 551480 rides from 202007-divvy-tripdata.csv.\n",
      "Inserted 622361 rides from 202008-divvy-tripdata.csv.\n",
      "Inserted 532958 rides from 202009-divvy-tripdata.csv.\n",
      "Inserted 388653 rides from 202010-divvy-tripdata.csv.\n",
      "Inserted 259716 rides from 202011-divvy-tripdata.csv.\n",
      "E11000 duplicate key error collection: te360.divvy index: _id_ dup key: { _id: \"CDA12952E2FC2D99\" }, full error: {'index': 0, 'code': 11000, 'keyPattern': {'_id': 1}, 'keyValue': {'_id': 'CDA12952E2FC2D99'}, 'errmsg': 'E11000 duplicate key error collection: te360.divvy index: _id_ dup key: { _id: \"CDA12952E2FC2D99\" }'}\n",
      "E11000 duplicate key error collection: te360.divvy index: _id_ dup key: { _id: \"934AEDB1B6C094EC\" }, full error: {'index': 0, 'code': 11000, 'keyPattern': {'_id': 1}, 'keyValue': {'_id': '934AEDB1B6C094EC'}, 'errmsg': 'E11000 duplicate key error collection: te360.divvy index: _id_ dup key: { _id: \"934AEDB1B6C094EC\" }'}\n",
      "E11000 duplicate key error collection: te360.divvy index: _id_ dup key: { _id: \"F9338303AF8415BA\" }, full error: {'index': 0, 'code': 11000, 'keyPattern': {'_id': 1}, 'keyValue': {'_id': 'F9338303AF8415BA'}, 'errmsg': 'E11000 duplicate key error collection: te360.divvy index: _id_ dup key: { _id: \"F9338303AF8415BA\" }'}\n",
      "E11000 duplicate key error collection: te360.divvy index: _id_ dup key: { _id: \"789640C9FEF98525\" }, full error: {'index': 0, 'code': 11000, 'keyPattern': {'_id': 1}, 'keyValue': {'_id': '789640C9FEF98525'}, 'errmsg': 'E11000 duplicate key error collection: te360.divvy index: _id_ dup key: { _id: \"789640C9FEF98525\" }'}\n",
      "E11000 duplicate key error collection: te360.divvy index: _id_ dup key: { _id: \"52C655580214D2EF\" }, full error: {'index': 0, 'code': 11000, 'keyPattern': {'_id': 1}, 'keyValue': {'_id': '52C655580214D2EF'}, 'errmsg': 'E11000 duplicate key error collection: te360.divvy index: _id_ dup key: { _id: \"52C655580214D2EF\" }'}\n",
      "E11000 duplicate key error collection: te360.divvy index: _id_ dup key: { _id: \"FC5B6175C2B7F964\" }, full error: {'index': 0, 'code': 11000, 'keyPattern': {'_id': 1}, 'keyValue': {'_id': 'FC5B6175C2B7F964'}, 'errmsg': 'E11000 duplicate key error collection: te360.divvy index: _id_ dup key: { _id: \"FC5B6175C2B7F964\" }'}\n",
      "E11000 duplicate key error collection: te360.divvy index: _id_ dup key: { _id: \"4F4137E3BB7D99FA\" }, full error: {'index': 0, 'code': 11000, 'keyPattern': {'_id': 1}, 'keyValue': {'_id': '4F4137E3BB7D99FA'}, 'errmsg': 'E11000 duplicate key error collection: te360.divvy index: _id_ dup key: { _id: \"4F4137E3BB7D99FA\" }'}\n",
      "E11000 duplicate key error collection: te360.divvy index: _id_ dup key: { _id: \"11C4A286C57B4D61\" }, full error: {'index': 0, 'code': 11000, 'keyPattern': {'_id': 1}, 'keyValue': {'_id': '11C4A286C57B4D61'}, 'errmsg': 'E11000 duplicate key error collection: te360.divvy index: _id_ dup key: { _id: \"11C4A286C57B4D61\" }'}\n",
      "E11000 duplicate key error collection: te360.divvy index: _id_ dup key: { _id: \"FF1B35D974D5B39E\" }, full error: {'index': 0, 'code': 11000, 'keyPattern': {'_id': 1}, 'keyValue': {'_id': 'FF1B35D974D5B39E'}, 'errmsg': 'E11000 duplicate key error collection: te360.divvy index: _id_ dup key: { _id: \"FF1B35D974D5B39E\" }'}\n",
      "E11000 duplicate key error collection: te360.divvy index: _id_ dup key: { _id: \"8845B3D51C97E104\" }, full error: {'index': 0, 'code': 11000, 'keyPattern': {'_id': 1}, 'keyValue': {'_id': '8845B3D51C97E104'}, 'errmsg': 'E11000 duplicate key error collection: te360.divvy index: _id_ dup key: { _id: \"8845B3D51C97E104\" }'}\n",
      "E11000 duplicate key error collection: te360.divvy index: _id_ dup key: { _id: \"8F46132F5095A1C4\" }, full error: {'index': 0, 'code': 11000, 'keyPattern': {'_id': 1}, 'keyValue': {'_id': '8F46132F5095A1C4'}, 'errmsg': 'E11000 duplicate key error collection: te360.divvy index: _id_ dup key: { _id: \"8F46132F5095A1C4\" }'}\n",
      "E11000 duplicate key error collection: te360.divvy index: _id_ dup key: { _id: \"7ECFE66F1EEA71F0\" }, full error: {'index': 0, 'code': 11000, 'keyPattern': {'_id': 1}, 'keyValue': {'_id': '7ECFE66F1EEA71F0'}, 'errmsg': 'E11000 duplicate key error collection: te360.divvy index: _id_ dup key: { _id: \"7ECFE66F1EEA71F0\" }'}\n",
      "E11000 duplicate key error collection: te360.divvy index: _id_ dup key: { _id: \"10C0DB0336A0CF6C\" }, full error: {'index': 0, 'code': 11000, 'keyPattern': {'_id': 1}, 'keyValue': {'_id': '10C0DB0336A0CF6C'}, 'errmsg': 'E11000 duplicate key error collection: te360.divvy index: _id_ dup key: { _id: \"10C0DB0336A0CF6C\" }'}\n",
      "E11000 duplicate key error collection: te360.divvy index: _id_ dup key: { _id: \"5BE1706282491560\" }, full error: {'index': 0, 'code': 11000, 'keyPattern': {'_id': 1}, 'keyValue': {'_id': '5BE1706282491560'}, 'errmsg': 'E11000 duplicate key error collection: te360.divvy index: _id_ dup key: { _id: \"5BE1706282491560\" }'}\n",
      "E11000 duplicate key error collection: te360.divvy index: _id_ dup key: { _id: \"B69A4C0140C52F16\" }, full error: {'index': 0, 'code': 11000, 'keyPattern': {'_id': 1}, 'keyValue': {'_id': 'B69A4C0140C52F16'}, 'errmsg': 'E11000 duplicate key error collection: te360.divvy index: _id_ dup key: { _id: \"B69A4C0140C52F16\" }'}\n",
      "E11000 duplicate key error collection: te360.divvy index: _id_ dup key: { _id: \"FF49C6C596507F0B\" }, full error: {'index': 0, 'code': 11000, 'keyPattern': {'_id': 1}, 'keyValue': {'_id': 'FF49C6C596507F0B'}, 'errmsg': 'E11000 duplicate key error collection: te360.divvy index: _id_ dup key: { _id: \"FF49C6C596507F0B\" }'}\n",
      "E11000 duplicate key error collection: te360.divvy index: _id_ dup key: { _id: \"EEA512DD5A5D13DE\" }, full error: {'index': 0, 'code': 11000, 'keyPattern': {'_id': 1}, 'keyValue': {'_id': 'EEA512DD5A5D13DE'}, 'errmsg': 'E11000 duplicate key error collection: te360.divvy index: _id_ dup key: { _id: \"EEA512DD5A5D13DE\" }'}\n",
      "E11000 duplicate key error collection: te360.divvy index: _id_ dup key: { _id: \"3FD79779825A0D6A\" }, full error: {'index': 0, 'code': 11000, 'keyPattern': {'_id': 1}, 'keyValue': {'_id': '3FD79779825A0D6A'}, 'errmsg': 'E11000 duplicate key error collection: te360.divvy index: _id_ dup key: { _id: \"3FD79779825A0D6A\" }'}\n",
      "E11000 duplicate key error collection: te360.divvy index: _id_ dup key: { _id: \"214A29191EEB053A\" }, full error: {'index': 0, 'code': 11000, 'keyPattern': {'_id': 1}, 'keyValue': {'_id': '214A29191EEB053A'}, 'errmsg': 'E11000 duplicate key error collection: te360.divvy index: _id_ dup key: { _id: \"214A29191EEB053A\" }'}\n",
      "E11000 duplicate key error collection: te360.divvy index: _id_ dup key: { _id: \"6D233DAFDBB4BB08\" }, full error: {'index': 0, 'code': 11000, 'keyPattern': {'_id': 1}, 'keyValue': {'_id': '6D233DAFDBB4BB08'}, 'errmsg': 'E11000 duplicate key error collection: te360.divvy index: _id_ dup key: { _id: \"6D233DAFDBB4BB08\" }'}\n",
      "E11000 duplicate key error collection: te360.divvy index: _id_ dup key: { _id: \"629AD990ACBA3286\" }, full error: {'index': 0, 'code': 11000, 'keyPattern': {'_id': 1}, 'keyValue': {'_id': '629AD990ACBA3286'}, 'errmsg': 'E11000 duplicate key error collection: te360.divvy index: _id_ dup key: { _id: \"629AD990ACBA3286\" }'}\n",
      "E11000 duplicate key error collection: te360.divvy index: _id_ dup key: { _id: \"328EAA0F5E1CFB70\" }, full error: {'index': 0, 'code': 11000, 'keyPattern': {'_id': 1}, 'keyValue': {'_id': '328EAA0F5E1CFB70'}, 'errmsg': 'E11000 duplicate key error collection: te360.divvy index: _id_ dup key: { _id: \"328EAA0F5E1CFB70\" }'}\n",
      "E11000 duplicate key error collection: te360.divvy index: _id_ dup key: { _id: \"15DBA8BC83142F7A\" }, full error: {'index': 0, 'code': 11000, 'keyPattern': {'_id': 1}, 'keyValue': {'_id': '15DBA8BC83142F7A'}, 'errmsg': 'E11000 duplicate key error collection: te360.divvy index: _id_ dup key: { _id: \"15DBA8BC83142F7A\" }'}\n",
      "E11000 duplicate key error collection: te360.divvy index: _id_ dup key: { _id: \"10AE33C50AE4DC7D\" }, full error: {'index': 0, 'code': 11000, 'keyPattern': {'_id': 1}, 'keyValue': {'_id': '10AE33C50AE4DC7D'}, 'errmsg': 'E11000 duplicate key error collection: te360.divvy index: _id_ dup key: { _id: \"10AE33C50AE4DC7D\" }'}\n",
      "E11000 duplicate key error collection: te360.divvy index: _id_ dup key: { _id: \"36A50712105E0467\" }, full error: {'index': 0, 'code': 11000, 'keyPattern': {'_id': 1}, 'keyValue': {'_id': '36A50712105E0467'}, 'errmsg': 'E11000 duplicate key error collection: te360.divvy index: _id_ dup key: { _id: \"36A50712105E0467\" }'}\n"
     ]
    },
    {
     "name": "stdout",
     "output_type": "stream",
     "text": [
      "E11000 duplicate key error collection: te360.divvy index: _id_ dup key: { _id: \"5B658501758DF1F1\" }, full error: {'index': 0, 'code': 11000, 'keyPattern': {'_id': 1}, 'keyValue': {'_id': '5B658501758DF1F1'}, 'errmsg': 'E11000 duplicate key error collection: te360.divvy index: _id_ dup key: { _id: \"5B658501758DF1F1\" }'}\n",
      "E11000 duplicate key error collection: te360.divvy index: _id_ dup key: { _id: \"06AD9EC9352D7A00\" }, full error: {'index': 0, 'code': 11000, 'keyPattern': {'_id': 1}, 'keyValue': {'_id': '06AD9EC9352D7A00'}, 'errmsg': 'E11000 duplicate key error collection: te360.divvy index: _id_ dup key: { _id: \"06AD9EC9352D7A00\" }'}\n",
      "E11000 duplicate key error collection: te360.divvy index: _id_ dup key: { _id: \"182143F750493919\" }, full error: {'index': 0, 'code': 11000, 'keyPattern': {'_id': 1}, 'keyValue': {'_id': '182143F750493919'}, 'errmsg': 'E11000 duplicate key error collection: te360.divvy index: _id_ dup key: { _id: \"182143F750493919\" }'}\n",
      "E11000 duplicate key error collection: te360.divvy index: _id_ dup key: { _id: \"D4010B42A8CEF102\" }, full error: {'index': 0, 'code': 11000, 'keyPattern': {'_id': 1}, 'keyValue': {'_id': 'D4010B42A8CEF102'}, 'errmsg': 'E11000 duplicate key error collection: te360.divvy index: _id_ dup key: { _id: \"D4010B42A8CEF102\" }'}\n",
      "E11000 duplicate key error collection: te360.divvy index: _id_ dup key: { _id: \"C763BA9D0F6ED827\" }, full error: {'index': 0, 'code': 11000, 'keyPattern': {'_id': 1}, 'keyValue': {'_id': 'C763BA9D0F6ED827'}, 'errmsg': 'E11000 duplicate key error collection: te360.divvy index: _id_ dup key: { _id: \"C763BA9D0F6ED827\" }'}\n",
      "E11000 duplicate key error collection: te360.divvy index: _id_ dup key: { _id: \"582AF2B79478F949\" }, full error: {'index': 0, 'code': 11000, 'keyPattern': {'_id': 1}, 'keyValue': {'_id': '582AF2B79478F949'}, 'errmsg': 'E11000 duplicate key error collection: te360.divvy index: _id_ dup key: { _id: \"582AF2B79478F949\" }'}\n",
      "E11000 duplicate key error collection: te360.divvy index: _id_ dup key: { _id: \"D47305CAB26FD130\" }, full error: {'index': 0, 'code': 11000, 'keyPattern': {'_id': 1}, 'keyValue': {'_id': 'D47305CAB26FD130'}, 'errmsg': 'E11000 duplicate key error collection: te360.divvy index: _id_ dup key: { _id: \"D47305CAB26FD130\" }'}\n",
      "E11000 duplicate key error collection: te360.divvy index: _id_ dup key: { _id: \"A36C10BA7789BE4A\" }, full error: {'index': 0, 'code': 11000, 'keyPattern': {'_id': 1}, 'keyValue': {'_id': 'A36C10BA7789BE4A'}, 'errmsg': 'E11000 duplicate key error collection: te360.divvy index: _id_ dup key: { _id: \"A36C10BA7789BE4A\" }'}\n",
      "E11000 duplicate key error collection: te360.divvy index: _id_ dup key: { _id: \"18B3779B78871E64\" }, full error: {'index': 0, 'code': 11000, 'keyPattern': {'_id': 1}, 'keyValue': {'_id': '18B3779B78871E64'}, 'errmsg': 'E11000 duplicate key error collection: te360.divvy index: _id_ dup key: { _id: \"18B3779B78871E64\" }'}\n",
      "E11000 duplicate key error collection: te360.divvy index: _id_ dup key: { _id: \"8758E473B457691C\" }, full error: {'index': 0, 'code': 11000, 'keyPattern': {'_id': 1}, 'keyValue': {'_id': '8758E473B457691C'}, 'errmsg': 'E11000 duplicate key error collection: te360.divvy index: _id_ dup key: { _id: \"8758E473B457691C\" }'}\n",
      "E11000 duplicate key error collection: te360.divvy index: _id_ dup key: { _id: \"CCCA6825EEBA5F09\" }, full error: {'index': 0, 'code': 11000, 'keyPattern': {'_id': 1}, 'keyValue': {'_id': 'CCCA6825EEBA5F09'}, 'errmsg': 'E11000 duplicate key error collection: te360.divvy index: _id_ dup key: { _id: \"CCCA6825EEBA5F09\" }'}\n",
      "E11000 duplicate key error collection: te360.divvy index: _id_ dup key: { _id: \"BEE212DC635A9BDE\" }, full error: {'index': 0, 'code': 11000, 'keyPattern': {'_id': 1}, 'keyValue': {'_id': 'BEE212DC635A9BDE'}, 'errmsg': 'E11000 duplicate key error collection: te360.divvy index: _id_ dup key: { _id: \"BEE212DC635A9BDE\" }'}\n",
      "E11000 duplicate key error collection: te360.divvy index: _id_ dup key: { _id: \"021A73F8C18B932D\" }, full error: {'index': 0, 'code': 11000, 'keyPattern': {'_id': 1}, 'keyValue': {'_id': '021A73F8C18B932D'}, 'errmsg': 'E11000 duplicate key error collection: te360.divvy index: _id_ dup key: { _id: \"021A73F8C18B932D\" }'}\n",
      "E11000 duplicate key error collection: te360.divvy index: _id_ dup key: { _id: \"AAE40A06C43EC39A\" }, full error: {'index': 0, 'code': 11000, 'keyPattern': {'_id': 1}, 'keyValue': {'_id': 'AAE40A06C43EC39A'}, 'errmsg': 'E11000 duplicate key error collection: te360.divvy index: _id_ dup key: { _id: \"AAE40A06C43EC39A\" }'}\n",
      "E11000 duplicate key error collection: te360.divvy index: _id_ dup key: { _id: \"A08B4A7018A2C588\" }, full error: {'index': 0, 'code': 11000, 'keyPattern': {'_id': 1}, 'keyValue': {'_id': 'A08B4A7018A2C588'}, 'errmsg': 'E11000 duplicate key error collection: te360.divvy index: _id_ dup key: { _id: \"A08B4A7018A2C588\" }'}\n",
      "E11000 duplicate key error collection: te360.divvy index: _id_ dup key: { _id: \"BE1F691E387D7072\" }, full error: {'index': 0, 'code': 11000, 'keyPattern': {'_id': 1}, 'keyValue': {'_id': 'BE1F691E387D7072'}, 'errmsg': 'E11000 duplicate key error collection: te360.divvy index: _id_ dup key: { _id: \"BE1F691E387D7072\" }'}\n",
      "E11000 duplicate key error collection: te360.divvy index: _id_ dup key: { _id: \"1F263381957861B3\" }, full error: {'index': 0, 'code': 11000, 'keyPattern': {'_id': 1}, 'keyValue': {'_id': '1F263381957861B3'}, 'errmsg': 'E11000 duplicate key error collection: te360.divvy index: _id_ dup key: { _id: \"1F263381957861B3\" }'}\n",
      "E11000 duplicate key error collection: te360.divvy index: _id_ dup key: { _id: \"3F2C8BD6CB092175\" }, full error: {'index': 0, 'code': 11000, 'keyPattern': {'_id': 1}, 'keyValue': {'_id': '3F2C8BD6CB092175'}, 'errmsg': 'E11000 duplicate key error collection: te360.divvy index: _id_ dup key: { _id: \"3F2C8BD6CB092175\" }'}\n",
      "E11000 duplicate key error collection: te360.divvy index: _id_ dup key: { _id: \"E44920C9147FF72B\" }, full error: {'index': 0, 'code': 11000, 'keyPattern': {'_id': 1}, 'keyValue': {'_id': 'E44920C9147FF72B'}, 'errmsg': 'E11000 duplicate key error collection: te360.divvy index: _id_ dup key: { _id: \"E44920C9147FF72B\" }'}\n",
      "E11000 duplicate key error collection: te360.divvy index: _id_ dup key: { _id: \"0C3CB45FD307654C\" }, full error: {'index': 0, 'code': 11000, 'keyPattern': {'_id': 1}, 'keyValue': {'_id': '0C3CB45FD307654C'}, 'errmsg': 'E11000 duplicate key error collection: te360.divvy index: _id_ dup key: { _id: \"0C3CB45FD307654C\" }'}\n",
      "E11000 duplicate key error collection: te360.divvy index: _id_ dup key: { _id: \"4EDB8A26F78B8C2F\" }, full error: {'index': 0, 'code': 11000, 'keyPattern': {'_id': 1}, 'keyValue': {'_id': '4EDB8A26F78B8C2F'}, 'errmsg': 'E11000 duplicate key error collection: te360.divvy index: _id_ dup key: { _id: \"4EDB8A26F78B8C2F\" }'}\n",
      "E11000 duplicate key error collection: te360.divvy index: _id_ dup key: { _id: \"948103184D2F36B2\" }, full error: {'index': 0, 'code': 11000, 'keyPattern': {'_id': 1}, 'keyValue': {'_id': '948103184D2F36B2'}, 'errmsg': 'E11000 duplicate key error collection: te360.divvy index: _id_ dup key: { _id: \"948103184D2F36B2\" }'}\n",
      "E11000 duplicate key error collection: te360.divvy index: _id_ dup key: { _id: \"2EDD39499F0C1ACB\" }, full error: {'index': 0, 'code': 11000, 'keyPattern': {'_id': 1}, 'keyValue': {'_id': '2EDD39499F0C1ACB'}, 'errmsg': 'E11000 duplicate key error collection: te360.divvy index: _id_ dup key: { _id: \"2EDD39499F0C1ACB\" }'}\n",
      "E11000 duplicate key error collection: te360.divvy index: _id_ dup key: { _id: \"F840BA439E7C7564\" }, full error: {'index': 0, 'code': 11000, 'keyPattern': {'_id': 1}, 'keyValue': {'_id': 'F840BA439E7C7564'}, 'errmsg': 'E11000 duplicate key error collection: te360.divvy index: _id_ dup key: { _id: \"F840BA439E7C7564\" }'}\n",
      "E11000 duplicate key error collection: te360.divvy index: _id_ dup key: { _id: \"8621E905EF481E58\" }, full error: {'index': 0, 'code': 11000, 'keyPattern': {'_id': 1}, 'keyValue': {'_id': '8621E905EF481E58'}, 'errmsg': 'E11000 duplicate key error collection: te360.divvy index: _id_ dup key: { _id: \"8621E905EF481E58\" }'}\n",
      "E11000 duplicate key error collection: te360.divvy index: _id_ dup key: { _id: \"C401F279D58BAEA5\" }, full error: {'index': 0, 'code': 11000, 'keyPattern': {'_id': 1}, 'keyValue': {'_id': 'C401F279D58BAEA5'}, 'errmsg': 'E11000 duplicate key error collection: te360.divvy index: _id_ dup key: { _id: \"C401F279D58BAEA5\" }'}\n"
     ]
    },
    {
     "name": "stdout",
     "output_type": "stream",
     "text": [
      "E11000 duplicate key error collection: te360.divvy index: _id_ dup key: { _id: \"9F730232AF5E9D5C\" }, full error: {'index': 0, 'code': 11000, 'keyPattern': {'_id': 1}, 'keyValue': {'_id': '9F730232AF5E9D5C'}, 'errmsg': 'E11000 duplicate key error collection: te360.divvy index: _id_ dup key: { _id: \"9F730232AF5E9D5C\" }'}\n",
      "E11000 duplicate key error collection: te360.divvy index: _id_ dup key: { _id: \"99E4DD1936FA4B11\" }, full error: {'index': 0, 'code': 11000, 'keyPattern': {'_id': 1}, 'keyValue': {'_id': '99E4DD1936FA4B11'}, 'errmsg': 'E11000 duplicate key error collection: te360.divvy index: _id_ dup key: { _id: \"99E4DD1936FA4B11\" }'}\n",
      "E11000 duplicate key error collection: te360.divvy index: _id_ dup key: { _id: \"AF894E23F6CF2F47\" }, full error: {'index': 0, 'code': 11000, 'keyPattern': {'_id': 1}, 'keyValue': {'_id': 'AF894E23F6CF2F47'}, 'errmsg': 'E11000 duplicate key error collection: te360.divvy index: _id_ dup key: { _id: \"AF894E23F6CF2F47\" }'}\n",
      "E11000 duplicate key error collection: te360.divvy index: _id_ dup key: { _id: \"A0B853B568A10E72\" }, full error: {'index': 0, 'code': 11000, 'keyPattern': {'_id': 1}, 'keyValue': {'_id': 'A0B853B568A10E72'}, 'errmsg': 'E11000 duplicate key error collection: te360.divvy index: _id_ dup key: { _id: \"A0B853B568A10E72\" }'}\n",
      "E11000 duplicate key error collection: te360.divvy index: _id_ dup key: { _id: \"EAB41740602B3BA6\" }, full error: {'index': 0, 'code': 11000, 'keyPattern': {'_id': 1}, 'keyValue': {'_id': 'EAB41740602B3BA6'}, 'errmsg': 'E11000 duplicate key error collection: te360.divvy index: _id_ dup key: { _id: \"EAB41740602B3BA6\" }'}\n",
      "E11000 duplicate key error collection: te360.divvy index: _id_ dup key: { _id: \"840F04F527426550\" }, full error: {'index': 0, 'code': 11000, 'keyPattern': {'_id': 1}, 'keyValue': {'_id': '840F04F527426550'}, 'errmsg': 'E11000 duplicate key error collection: te360.divvy index: _id_ dup key: { _id: \"840F04F527426550\" }'}\n",
      "E11000 duplicate key error collection: te360.divvy index: _id_ dup key: { _id: \"87FA04EB1EE57804\" }, full error: {'index': 0, 'code': 11000, 'keyPattern': {'_id': 1}, 'keyValue': {'_id': '87FA04EB1EE57804'}, 'errmsg': 'E11000 duplicate key error collection: te360.divvy index: _id_ dup key: { _id: \"87FA04EB1EE57804\" }'}\n",
      "E11000 duplicate key error collection: te360.divvy index: _id_ dup key: { _id: \"0334987B57662109\" }, full error: {'index': 0, 'code': 11000, 'keyPattern': {'_id': 1}, 'keyValue': {'_id': '0334987B57662109'}, 'errmsg': 'E11000 duplicate key error collection: te360.divvy index: _id_ dup key: { _id: \"0334987B57662109\" }'}\n",
      "E11000 duplicate key error collection: te360.divvy index: _id_ dup key: { _id: \"0852F31B41CB650D\" }, full error: {'index': 0, 'code': 11000, 'keyPattern': {'_id': 1}, 'keyValue': {'_id': '0852F31B41CB650D'}, 'errmsg': 'E11000 duplicate key error collection: te360.divvy index: _id_ dup key: { _id: \"0852F31B41CB650D\" }'}\n",
      "E11000 duplicate key error collection: te360.divvy index: _id_ dup key: { _id: \"D6F0C7555EB098DB\" }, full error: {'index': 0, 'code': 11000, 'keyPattern': {'_id': 1}, 'keyValue': {'_id': 'D6F0C7555EB098DB'}, 'errmsg': 'E11000 duplicate key error collection: te360.divvy index: _id_ dup key: { _id: \"D6F0C7555EB098DB\" }'}\n",
      "E11000 duplicate key error collection: te360.divvy index: _id_ dup key: { _id: \"325F6C4D5B72134A\" }, full error: {'index': 0, 'code': 11000, 'keyPattern': {'_id': 1}, 'keyValue': {'_id': '325F6C4D5B72134A'}, 'errmsg': 'E11000 duplicate key error collection: te360.divvy index: _id_ dup key: { _id: \"325F6C4D5B72134A\" }'}\n",
      "E11000 duplicate key error collection: te360.divvy index: _id_ dup key: { _id: \"6026FEA994087456\" }, full error: {'index': 0, 'code': 11000, 'keyPattern': {'_id': 1}, 'keyValue': {'_id': '6026FEA994087456'}, 'errmsg': 'E11000 duplicate key error collection: te360.divvy index: _id_ dup key: { _id: \"6026FEA994087456\" }'}\n",
      "E11000 duplicate key error collection: te360.divvy index: _id_ dup key: { _id: \"F147CEF60AD16A60\" }, full error: {'index': 0, 'code': 11000, 'keyPattern': {'_id': 1}, 'keyValue': {'_id': 'F147CEF60AD16A60'}, 'errmsg': 'E11000 duplicate key error collection: te360.divvy index: _id_ dup key: { _id: \"F147CEF60AD16A60\" }'}\n",
      "E11000 duplicate key error collection: te360.divvy index: _id_ dup key: { _id: \"B56A7F8BCB060660\" }, full error: {'index': 0, 'code': 11000, 'keyPattern': {'_id': 1}, 'keyValue': {'_id': 'B56A7F8BCB060660'}, 'errmsg': 'E11000 duplicate key error collection: te360.divvy index: _id_ dup key: { _id: \"B56A7F8BCB060660\" }'}\n",
      "E11000 duplicate key error collection: te360.divvy index: _id_ dup key: { _id: \"274C073E4F96B726\" }, full error: {'index': 0, 'code': 11000, 'keyPattern': {'_id': 1}, 'keyValue': {'_id': '274C073E4F96B726'}, 'errmsg': 'E11000 duplicate key error collection: te360.divvy index: _id_ dup key: { _id: \"274C073E4F96B726\" }'}\n",
      "E11000 duplicate key error collection: te360.divvy index: _id_ dup key: { _id: \"BAD7E7284556897F\" }, full error: {'index': 0, 'code': 11000, 'keyPattern': {'_id': 1}, 'keyValue': {'_id': 'BAD7E7284556897F'}, 'errmsg': 'E11000 duplicate key error collection: te360.divvy index: _id_ dup key: { _id: \"BAD7E7284556897F\" }'}\n",
      "E11000 duplicate key error collection: te360.divvy index: _id_ dup key: { _id: \"534652A720619C22\" }, full error: {'index': 0, 'code': 11000, 'keyPattern': {'_id': 1}, 'keyValue': {'_id': '534652A720619C22'}, 'errmsg': 'E11000 duplicate key error collection: te360.divvy index: _id_ dup key: { _id: \"534652A720619C22\" }'}\n",
      "E11000 duplicate key error collection: te360.divvy index: _id_ dup key: { _id: \"203E4F607EB792FC\" }, full error: {'index': 0, 'code': 11000, 'keyPattern': {'_id': 1}, 'keyValue': {'_id': '203E4F607EB792FC'}, 'errmsg': 'E11000 duplicate key error collection: te360.divvy index: _id_ dup key: { _id: \"203E4F607EB792FC\" }'}\n",
      "E11000 duplicate key error collection: te360.divvy index: _id_ dup key: { _id: \"521737D9B8EE1A6A\" }, full error: {'index': 0, 'code': 11000, 'keyPattern': {'_id': 1}, 'keyValue': {'_id': '521737D9B8EE1A6A'}, 'errmsg': 'E11000 duplicate key error collection: te360.divvy index: _id_ dup key: { _id: \"521737D9B8EE1A6A\" }'}\n",
      "E11000 duplicate key error collection: te360.divvy index: _id_ dup key: { _id: \"B2643DEB23A42D6A\" }, full error: {'index': 0, 'code': 11000, 'keyPattern': {'_id': 1}, 'keyValue': {'_id': 'B2643DEB23A42D6A'}, 'errmsg': 'E11000 duplicate key error collection: te360.divvy index: _id_ dup key: { _id: \"B2643DEB23A42D6A\" }'}\n",
      "E11000 duplicate key error collection: te360.divvy index: _id_ dup key: { _id: \"DF565CF364553A8E\" }, full error: {'index': 0, 'code': 11000, 'keyPattern': {'_id': 1}, 'keyValue': {'_id': 'DF565CF364553A8E'}, 'errmsg': 'E11000 duplicate key error collection: te360.divvy index: _id_ dup key: { _id: \"DF565CF364553A8E\" }'}\n",
      "E11000 duplicate key error collection: te360.divvy index: _id_ dup key: { _id: \"E3BA43F13E5D2B60\" }, full error: {'index': 0, 'code': 11000, 'keyPattern': {'_id': 1}, 'keyValue': {'_id': 'E3BA43F13E5D2B60'}, 'errmsg': 'E11000 duplicate key error collection: te360.divvy index: _id_ dup key: { _id: \"E3BA43F13E5D2B60\" }'}\n",
      "E11000 duplicate key error collection: te360.divvy index: _id_ dup key: { _id: \"7709D2963B4A7327\" }, full error: {'index': 0, 'code': 11000, 'keyPattern': {'_id': 1}, 'keyValue': {'_id': '7709D2963B4A7327'}, 'errmsg': 'E11000 duplicate key error collection: te360.divvy index: _id_ dup key: { _id: \"7709D2963B4A7327\" }'}\n",
      "E11000 duplicate key error collection: te360.divvy index: _id_ dup key: { _id: \"038CAB4A84D9A56B\" }, full error: {'index': 0, 'code': 11000, 'keyPattern': {'_id': 1}, 'keyValue': {'_id': '038CAB4A84D9A56B'}, 'errmsg': 'E11000 duplicate key error collection: te360.divvy index: _id_ dup key: { _id: \"038CAB4A84D9A56B\" }'}\n",
      "E11000 duplicate key error collection: te360.divvy index: _id_ dup key: { _id: \"D9C6FA60E196E011\" }, full error: {'index': 0, 'code': 11000, 'keyPattern': {'_id': 1}, 'keyValue': {'_id': 'D9C6FA60E196E011'}, 'errmsg': 'E11000 duplicate key error collection: te360.divvy index: _id_ dup key: { _id: \"D9C6FA60E196E011\" }'}\n",
      "E11000 duplicate key error collection: te360.divvy index: _id_ dup key: { _id: \"CA76F0973355647E\" }, full error: {'index': 0, 'code': 11000, 'keyPattern': {'_id': 1}, 'keyValue': {'_id': 'CA76F0973355647E'}, 'errmsg': 'E11000 duplicate key error collection: te360.divvy index: _id_ dup key: { _id: \"CA76F0973355647E\" }'}\n",
      "E11000 duplicate key error collection: te360.divvy index: _id_ dup key: { _id: \"6FA7E6905E98728A\" }, full error: {'index': 0, 'code': 11000, 'keyPattern': {'_id': 1}, 'keyValue': {'_id': '6FA7E6905E98728A'}, 'errmsg': 'E11000 duplicate key error collection: te360.divvy index: _id_ dup key: { _id: \"6FA7E6905E98728A\" }'}\n",
      "E11000 duplicate key error collection: te360.divvy index: _id_ dup key: { _id: \"3EF860643BF00063\" }, full error: {'index': 0, 'code': 11000, 'keyPattern': {'_id': 1}, 'keyValue': {'_id': '3EF860643BF00063'}, 'errmsg': 'E11000 duplicate key error collection: te360.divvy index: _id_ dup key: { _id: \"3EF860643BF00063\" }'}\n"
     ]
    },
    {
     "name": "stdout",
     "output_type": "stream",
     "text": [
      "E11000 duplicate key error collection: te360.divvy index: _id_ dup key: { _id: \"99BE5F7298A6460C\" }, full error: {'index': 0, 'code': 11000, 'keyPattern': {'_id': 1}, 'keyValue': {'_id': '99BE5F7298A6460C'}, 'errmsg': 'E11000 duplicate key error collection: te360.divvy index: _id_ dup key: { _id: \"99BE5F7298A6460C\" }'}\n",
      "E11000 duplicate key error collection: te360.divvy index: _id_ dup key: { _id: \"3C8888090D42A63F\" }, full error: {'index': 0, 'code': 11000, 'keyPattern': {'_id': 1}, 'keyValue': {'_id': '3C8888090D42A63F'}, 'errmsg': 'E11000 duplicate key error collection: te360.divvy index: _id_ dup key: { _id: \"3C8888090D42A63F\" }'}\n",
      "E11000 duplicate key error collection: te360.divvy index: _id_ dup key: { _id: \"FE36876C99DE6E66\" }, full error: {'index': 0, 'code': 11000, 'keyPattern': {'_id': 1}, 'keyValue': {'_id': 'FE36876C99DE6E66'}, 'errmsg': 'E11000 duplicate key error collection: te360.divvy index: _id_ dup key: { _id: \"FE36876C99DE6E66\" }'}\n",
      "E11000 duplicate key error collection: te360.divvy index: _id_ dup key: { _id: \"61C3FB1967EE35BC\" }, full error: {'index': 0, 'code': 11000, 'keyPattern': {'_id': 1}, 'keyValue': {'_id': '61C3FB1967EE35BC'}, 'errmsg': 'E11000 duplicate key error collection: te360.divvy index: _id_ dup key: { _id: \"61C3FB1967EE35BC\" }'}\n",
      "E11000 duplicate key error collection: te360.divvy index: _id_ dup key: { _id: \"86880707160887F5\" }, full error: {'index': 0, 'code': 11000, 'keyPattern': {'_id': 1}, 'keyValue': {'_id': '86880707160887F5'}, 'errmsg': 'E11000 duplicate key error collection: te360.divvy index: _id_ dup key: { _id: \"86880707160887F5\" }'}\n",
      "E11000 duplicate key error collection: te360.divvy index: _id_ dup key: { _id: \"40E1450346997098\" }, full error: {'index': 0, 'code': 11000, 'keyPattern': {'_id': 1}, 'keyValue': {'_id': '40E1450346997098'}, 'errmsg': 'E11000 duplicate key error collection: te360.divvy index: _id_ dup key: { _id: \"40E1450346997098\" }'}\n",
      "E11000 duplicate key error collection: te360.divvy index: _id_ dup key: { _id: \"1AA11B4F83CC59B3\" }, full error: {'index': 0, 'code': 11000, 'keyPattern': {'_id': 1}, 'keyValue': {'_id': '1AA11B4F83CC59B3'}, 'errmsg': 'E11000 duplicate key error collection: te360.divvy index: _id_ dup key: { _id: \"1AA11B4F83CC59B3\" }'}\n",
      "E11000 duplicate key error collection: te360.divvy index: _id_ dup key: { _id: \"1430E6C2ACE16486\" }, full error: {'index': 0, 'code': 11000, 'keyPattern': {'_id': 1}, 'keyValue': {'_id': '1430E6C2ACE16486'}, 'errmsg': 'E11000 duplicate key error collection: te360.divvy index: _id_ dup key: { _id: \"1430E6C2ACE16486\" }'}\n",
      "E11000 duplicate key error collection: te360.divvy index: _id_ dup key: { _id: \"3599D100A81566B3\" }, full error: {'index': 0, 'code': 11000, 'keyPattern': {'_id': 1}, 'keyValue': {'_id': '3599D100A81566B3'}, 'errmsg': 'E11000 duplicate key error collection: te360.divvy index: _id_ dup key: { _id: \"3599D100A81566B3\" }'}\n",
      "E11000 duplicate key error collection: te360.divvy index: _id_ dup key: { _id: \"143FF4F0F0F8B80F\" }, full error: {'index': 0, 'code': 11000, 'keyPattern': {'_id': 1}, 'keyValue': {'_id': '143FF4F0F0F8B80F'}, 'errmsg': 'E11000 duplicate key error collection: te360.divvy index: _id_ dup key: { _id: \"143FF4F0F0F8B80F\" }'}\n",
      "E11000 duplicate key error collection: te360.divvy index: _id_ dup key: { _id: \"4D730AA5014193E8\" }, full error: {'index': 0, 'code': 11000, 'keyPattern': {'_id': 1}, 'keyValue': {'_id': '4D730AA5014193E8'}, 'errmsg': 'E11000 duplicate key error collection: te360.divvy index: _id_ dup key: { _id: \"4D730AA5014193E8\" }'}\n",
      "E11000 duplicate key error collection: te360.divvy index: _id_ dup key: { _id: \"A4322BE60B7192CA\" }, full error: {'index': 0, 'code': 11000, 'keyPattern': {'_id': 1}, 'keyValue': {'_id': 'A4322BE60B7192CA'}, 'errmsg': 'E11000 duplicate key error collection: te360.divvy index: _id_ dup key: { _id: \"A4322BE60B7192CA\" }'}\n",
      "E11000 duplicate key error collection: te360.divvy index: _id_ dup key: { _id: \"F79FBB1530DAE542\" }, full error: {'index': 0, 'code': 11000, 'keyPattern': {'_id': 1}, 'keyValue': {'_id': 'F79FBB1530DAE542'}, 'errmsg': 'E11000 duplicate key error collection: te360.divvy index: _id_ dup key: { _id: \"F79FBB1530DAE542\" }'}\n",
      "E11000 duplicate key error collection: te360.divvy index: _id_ dup key: { _id: \"E8947AD04F549FE8\" }, full error: {'index': 0, 'code': 11000, 'keyPattern': {'_id': 1}, 'keyValue': {'_id': 'E8947AD04F549FE8'}, 'errmsg': 'E11000 duplicate key error collection: te360.divvy index: _id_ dup key: { _id: \"E8947AD04F549FE8\" }'}\n",
      "E11000 duplicate key error collection: te360.divvy index: _id_ dup key: { _id: \"79787C8D14B8FAEA\" }, full error: {'index': 0, 'code': 11000, 'keyPattern': {'_id': 1}, 'keyValue': {'_id': '79787C8D14B8FAEA'}, 'errmsg': 'E11000 duplicate key error collection: te360.divvy index: _id_ dup key: { _id: \"79787C8D14B8FAEA\" }'}\n",
      "E11000 duplicate key error collection: te360.divvy index: _id_ dup key: { _id: \"CB8FE4B0E55A3F7B\" }, full error: {'index': 0, 'code': 11000, 'keyPattern': {'_id': 1}, 'keyValue': {'_id': 'CB8FE4B0E55A3F7B'}, 'errmsg': 'E11000 duplicate key error collection: te360.divvy index: _id_ dup key: { _id: \"CB8FE4B0E55A3F7B\" }'}\n",
      "E11000 duplicate key error collection: te360.divvy index: _id_ dup key: { _id: \"7D976ABAC410399D\" }, full error: {'index': 0, 'code': 11000, 'keyPattern': {'_id': 1}, 'keyValue': {'_id': '7D976ABAC410399D'}, 'errmsg': 'E11000 duplicate key error collection: te360.divvy index: _id_ dup key: { _id: \"7D976ABAC410399D\" }'}\n",
      "E11000 duplicate key error collection: te360.divvy index: _id_ dup key: { _id: \"D4FD2AA1D6B6E037\" }, full error: {'index': 0, 'code': 11000, 'keyPattern': {'_id': 1}, 'keyValue': {'_id': 'D4FD2AA1D6B6E037'}, 'errmsg': 'E11000 duplicate key error collection: te360.divvy index: _id_ dup key: { _id: \"D4FD2AA1D6B6E037\" }'}\n",
      "E11000 duplicate key error collection: te360.divvy index: _id_ dup key: { _id: \"48337C05EB173128\" }, full error: {'index': 0, 'code': 11000, 'keyPattern': {'_id': 1}, 'keyValue': {'_id': '48337C05EB173128'}, 'errmsg': 'E11000 duplicate key error collection: te360.divvy index: _id_ dup key: { _id: \"48337C05EB173128\" }'}\n",
      "E11000 duplicate key error collection: te360.divvy index: _id_ dup key: { _id: \"FBDC09ED8D3084B4\" }, full error: {'index': 0, 'code': 11000, 'keyPattern': {'_id': 1}, 'keyValue': {'_id': 'FBDC09ED8D3084B4'}, 'errmsg': 'E11000 duplicate key error collection: te360.divvy index: _id_ dup key: { _id: \"FBDC09ED8D3084B4\" }'}\n",
      "E11000 duplicate key error collection: te360.divvy index: _id_ dup key: { _id: \"214DC5EC1259E1FB\" }, full error: {'index': 0, 'code': 11000, 'keyPattern': {'_id': 1}, 'keyValue': {'_id': '214DC5EC1259E1FB'}, 'errmsg': 'E11000 duplicate key error collection: te360.divvy index: _id_ dup key: { _id: \"214DC5EC1259E1FB\" }'}\n",
      "E11000 duplicate key error collection: te360.divvy index: _id_ dup key: { _id: \"840CCB466190D543\" }, full error: {'index': 0, 'code': 11000, 'keyPattern': {'_id': 1}, 'keyValue': {'_id': '840CCB466190D543'}, 'errmsg': 'E11000 duplicate key error collection: te360.divvy index: _id_ dup key: { _id: \"840CCB466190D543\" }'}\n",
      "E11000 duplicate key error collection: te360.divvy index: _id_ dup key: { _id: \"9C8E204049A6C5D9\" }, full error: {'index': 0, 'code': 11000, 'keyPattern': {'_id': 1}, 'keyValue': {'_id': '9C8E204049A6C5D9'}, 'errmsg': 'E11000 duplicate key error collection: te360.divvy index: _id_ dup key: { _id: \"9C8E204049A6C5D9\" }'}\n",
      "E11000 duplicate key error collection: te360.divvy index: _id_ dup key: { _id: \"45D418DA3A465EB8\" }, full error: {'index': 0, 'code': 11000, 'keyPattern': {'_id': 1}, 'keyValue': {'_id': '45D418DA3A465EB8'}, 'errmsg': 'E11000 duplicate key error collection: te360.divvy index: _id_ dup key: { _id: \"45D418DA3A465EB8\" }'}\n",
      "E11000 duplicate key error collection: te360.divvy index: _id_ dup key: { _id: \"86E0216311A75D74\" }, full error: {'index': 0, 'code': 11000, 'keyPattern': {'_id': 1}, 'keyValue': {'_id': '86E0216311A75D74'}, 'errmsg': 'E11000 duplicate key error collection: te360.divvy index: _id_ dup key: { _id: \"86E0216311A75D74\" }'}\n",
      "E11000 duplicate key error collection: te360.divvy index: _id_ dup key: { _id: \"7D74C6E84EAA5888\" }, full error: {'index': 0, 'code': 11000, 'keyPattern': {'_id': 1}, 'keyValue': {'_id': '7D74C6E84EAA5888'}, 'errmsg': 'E11000 duplicate key error collection: te360.divvy index: _id_ dup key: { _id: \"7D74C6E84EAA5888\" }'}\n"
     ]
    },
    {
     "name": "stdout",
     "output_type": "stream",
     "text": [
      "E11000 duplicate key error collection: te360.divvy index: _id_ dup key: { _id: \"9B4C1DCB313DE754\" }, full error: {'index': 0, 'code': 11000, 'keyPattern': {'_id': 1}, 'keyValue': {'_id': '9B4C1DCB313DE754'}, 'errmsg': 'E11000 duplicate key error collection: te360.divvy index: _id_ dup key: { _id: \"9B4C1DCB313DE754\" }'}\n",
      "E11000 duplicate key error collection: te360.divvy index: _id_ dup key: { _id: \"217A18F12A1EBD25\" }, full error: {'index': 0, 'code': 11000, 'keyPattern': {'_id': 1}, 'keyValue': {'_id': '217A18F12A1EBD25'}, 'errmsg': 'E11000 duplicate key error collection: te360.divvy index: _id_ dup key: { _id: \"217A18F12A1EBD25\" }'}\n",
      "E11000 duplicate key error collection: te360.divvy index: _id_ dup key: { _id: \"251ECEE1C19E8FD2\" }, full error: {'index': 0, 'code': 11000, 'keyPattern': {'_id': 1}, 'keyValue': {'_id': '251ECEE1C19E8FD2'}, 'errmsg': 'E11000 duplicate key error collection: te360.divvy index: _id_ dup key: { _id: \"251ECEE1C19E8FD2\" }'}\n",
      "E11000 duplicate key error collection: te360.divvy index: _id_ dup key: { _id: \"4F84789858A19144\" }, full error: {'index': 0, 'code': 11000, 'keyPattern': {'_id': 1}, 'keyValue': {'_id': '4F84789858A19144'}, 'errmsg': 'E11000 duplicate key error collection: te360.divvy index: _id_ dup key: { _id: \"4F84789858A19144\" }'}\n",
      "E11000 duplicate key error collection: te360.divvy index: _id_ dup key: { _id: \"241E4DAC0F50F9C5\" }, full error: {'index': 0, 'code': 11000, 'keyPattern': {'_id': 1}, 'keyValue': {'_id': '241E4DAC0F50F9C5'}, 'errmsg': 'E11000 duplicate key error collection: te360.divvy index: _id_ dup key: { _id: \"241E4DAC0F50F9C5\" }'}\n",
      "E11000 duplicate key error collection: te360.divvy index: _id_ dup key: { _id: \"DD44314B313456F9\" }, full error: {'index': 0, 'code': 11000, 'keyPattern': {'_id': 1}, 'keyValue': {'_id': 'DD44314B313456F9'}, 'errmsg': 'E11000 duplicate key error collection: te360.divvy index: _id_ dup key: { _id: \"DD44314B313456F9\" }'}\n",
      "E11000 duplicate key error collection: te360.divvy index: _id_ dup key: { _id: \"781309C4E595619D\" }, full error: {'index': 0, 'code': 11000, 'keyPattern': {'_id': 1}, 'keyValue': {'_id': '781309C4E595619D'}, 'errmsg': 'E11000 duplicate key error collection: te360.divvy index: _id_ dup key: { _id: \"781309C4E595619D\" }'}\n",
      "E11000 duplicate key error collection: te360.divvy index: _id_ dup key: { _id: \"2DC5D43E1AD8FD06\" }, full error: {'index': 0, 'code': 11000, 'keyPattern': {'_id': 1}, 'keyValue': {'_id': '2DC5D43E1AD8FD06'}, 'errmsg': 'E11000 duplicate key error collection: te360.divvy index: _id_ dup key: { _id: \"2DC5D43E1AD8FD06\" }'}\n",
      "E11000 duplicate key error collection: te360.divvy index: _id_ dup key: { _id: \"A180F0B9240F6660\" }, full error: {'index': 0, 'code': 11000, 'keyPattern': {'_id': 1}, 'keyValue': {'_id': 'A180F0B9240F6660'}, 'errmsg': 'E11000 duplicate key error collection: te360.divvy index: _id_ dup key: { _id: \"A180F0B9240F6660\" }'}\n",
      "E11000 duplicate key error collection: te360.divvy index: _id_ dup key: { _id: \"243BA5BDD64F3F42\" }, full error: {'index': 0, 'code': 11000, 'keyPattern': {'_id': 1}, 'keyValue': {'_id': '243BA5BDD64F3F42'}, 'errmsg': 'E11000 duplicate key error collection: te360.divvy index: _id_ dup key: { _id: \"243BA5BDD64F3F42\" }'}\n",
      "E11000 duplicate key error collection: te360.divvy index: _id_ dup key: { _id: \"EBA124D6EF65666A\" }, full error: {'index': 0, 'code': 11000, 'keyPattern': {'_id': 1}, 'keyValue': {'_id': 'EBA124D6EF65666A'}, 'errmsg': 'E11000 duplicate key error collection: te360.divvy index: _id_ dup key: { _id: \"EBA124D6EF65666A\" }'}\n",
      "E11000 duplicate key error collection: te360.divvy index: _id_ dup key: { _id: \"0A2B0949201A9D0C\" }, full error: {'index': 0, 'code': 11000, 'keyPattern': {'_id': 1}, 'keyValue': {'_id': '0A2B0949201A9D0C'}, 'errmsg': 'E11000 duplicate key error collection: te360.divvy index: _id_ dup key: { _id: \"0A2B0949201A9D0C\" }'}\n",
      "E11000 duplicate key error collection: te360.divvy index: _id_ dup key: { _id: \"16DA1665709BCE89\" }, full error: {'index': 0, 'code': 11000, 'keyPattern': {'_id': 1}, 'keyValue': {'_id': '16DA1665709BCE89'}, 'errmsg': 'E11000 duplicate key error collection: te360.divvy index: _id_ dup key: { _id: \"16DA1665709BCE89\" }'}\n",
      "E11000 duplicate key error collection: te360.divvy index: _id_ dup key: { _id: \"53E367299911D267\" }, full error: {'index': 0, 'code': 11000, 'keyPattern': {'_id': 1}, 'keyValue': {'_id': '53E367299911D267'}, 'errmsg': 'E11000 duplicate key error collection: te360.divvy index: _id_ dup key: { _id: \"53E367299911D267\" }'}\n",
      "E11000 duplicate key error collection: te360.divvy index: _id_ dup key: { _id: \"215F720DB7868C39\" }, full error: {'index': 0, 'code': 11000, 'keyPattern': {'_id': 1}, 'keyValue': {'_id': '215F720DB7868C39'}, 'errmsg': 'E11000 duplicate key error collection: te360.divvy index: _id_ dup key: { _id: \"215F720DB7868C39\" }'}\n",
      "E11000 duplicate key error collection: te360.divvy index: _id_ dup key: { _id: \"B8FD82D36817B095\" }, full error: {'index': 0, 'code': 11000, 'keyPattern': {'_id': 1}, 'keyValue': {'_id': 'B8FD82D36817B095'}, 'errmsg': 'E11000 duplicate key error collection: te360.divvy index: _id_ dup key: { _id: \"B8FD82D36817B095\" }'}\n",
      "E11000 duplicate key error collection: te360.divvy index: _id_ dup key: { _id: \"A2182A1D29AF94D1\" }, full error: {'index': 0, 'code': 11000, 'keyPattern': {'_id': 1}, 'keyValue': {'_id': 'A2182A1D29AF94D1'}, 'errmsg': 'E11000 duplicate key error collection: te360.divvy index: _id_ dup key: { _id: \"A2182A1D29AF94D1\" }'}\n",
      "E11000 duplicate key error collection: te360.divvy index: _id_ dup key: { _id: \"9A09A8784A8142DE\" }, full error: {'index': 0, 'code': 11000, 'keyPattern': {'_id': 1}, 'keyValue': {'_id': '9A09A8784A8142DE'}, 'errmsg': 'E11000 duplicate key error collection: te360.divvy index: _id_ dup key: { _id: \"9A09A8784A8142DE\" }'}\n",
      "E11000 duplicate key error collection: te360.divvy index: _id_ dup key: { _id: \"D179C51BB3994B59\" }, full error: {'index': 0, 'code': 11000, 'keyPattern': {'_id': 1}, 'keyValue': {'_id': 'D179C51BB3994B59'}, 'errmsg': 'E11000 duplicate key error collection: te360.divvy index: _id_ dup key: { _id: \"D179C51BB3994B59\" }'}\n",
      "E11000 duplicate key error collection: te360.divvy index: _id_ dup key: { _id: \"878F31D24CCD5677\" }, full error: {'index': 0, 'code': 11000, 'keyPattern': {'_id': 1}, 'keyValue': {'_id': '878F31D24CCD5677'}, 'errmsg': 'E11000 duplicate key error collection: te360.divvy index: _id_ dup key: { _id: \"878F31D24CCD5677\" }'}\n",
      "E11000 duplicate key error collection: te360.divvy index: _id_ dup key: { _id: \"E57483D9742A72F5\" }, full error: {'index': 0, 'code': 11000, 'keyPattern': {'_id': 1}, 'keyValue': {'_id': 'E57483D9742A72F5'}, 'errmsg': 'E11000 duplicate key error collection: te360.divvy index: _id_ dup key: { _id: \"E57483D9742A72F5\" }'}\n",
      "E11000 duplicate key error collection: te360.divvy index: _id_ dup key: { _id: \"50996BF47123D0B6\" }, full error: {'index': 0, 'code': 11000, 'keyPattern': {'_id': 1}, 'keyValue': {'_id': '50996BF47123D0B6'}, 'errmsg': 'E11000 duplicate key error collection: te360.divvy index: _id_ dup key: { _id: \"50996BF47123D0B6\" }'}\n",
      "E11000 duplicate key error collection: te360.divvy index: _id_ dup key: { _id: \"592C4DB2BDF081DE\" }, full error: {'index': 0, 'code': 11000, 'keyPattern': {'_id': 1}, 'keyValue': {'_id': '592C4DB2BDF081DE'}, 'errmsg': 'E11000 duplicate key error collection: te360.divvy index: _id_ dup key: { _id: \"592C4DB2BDF081DE\" }'}\n",
      "E11000 duplicate key error collection: te360.divvy index: _id_ dup key: { _id: \"40C8B01349825049\" }, full error: {'index': 0, 'code': 11000, 'keyPattern': {'_id': 1}, 'keyValue': {'_id': '40C8B01349825049'}, 'errmsg': 'E11000 duplicate key error collection: te360.divvy index: _id_ dup key: { _id: \"40C8B01349825049\" }'}\n",
      "E11000 duplicate key error collection: te360.divvy index: _id_ dup key: { _id: \"672B7A02CB77D7C9\" }, full error: {'index': 0, 'code': 11000, 'keyPattern': {'_id': 1}, 'keyValue': {'_id': '672B7A02CB77D7C9'}, 'errmsg': 'E11000 duplicate key error collection: te360.divvy index: _id_ dup key: { _id: \"672B7A02CB77D7C9\" }'}\n",
      "E11000 duplicate key error collection: te360.divvy index: _id_ dup key: { _id: \"4AE7C88494448250\" }, full error: {'index': 0, 'code': 11000, 'keyPattern': {'_id': 1}, 'keyValue': {'_id': '4AE7C88494448250'}, 'errmsg': 'E11000 duplicate key error collection: te360.divvy index: _id_ dup key: { _id: \"4AE7C88494448250\" }'}\n"
     ]
    },
    {
     "name": "stdout",
     "output_type": "stream",
     "text": [
      "E11000 duplicate key error collection: te360.divvy index: _id_ dup key: { _id: \"A15CCE3AD80A6FEF\" }, full error: {'index': 0, 'code': 11000, 'keyPattern': {'_id': 1}, 'keyValue': {'_id': 'A15CCE3AD80A6FEF'}, 'errmsg': 'E11000 duplicate key error collection: te360.divvy index: _id_ dup key: { _id: \"A15CCE3AD80A6FEF\" }'}\n",
      "E11000 duplicate key error collection: te360.divvy index: _id_ dup key: { _id: \"7E4A23C73E16B67B\" }, full error: {'index': 0, 'code': 11000, 'keyPattern': {'_id': 1}, 'keyValue': {'_id': '7E4A23C73E16B67B'}, 'errmsg': 'E11000 duplicate key error collection: te360.divvy index: _id_ dup key: { _id: \"7E4A23C73E16B67B\" }'}\n",
      "E11000 duplicate key error collection: te360.divvy index: _id_ dup key: { _id: \"282A7A754D3C0B74\" }, full error: {'index': 0, 'code': 11000, 'keyPattern': {'_id': 1}, 'keyValue': {'_id': '282A7A754D3C0B74'}, 'errmsg': 'E11000 duplicate key error collection: te360.divvy index: _id_ dup key: { _id: \"282A7A754D3C0B74\" }'}\n",
      "E11000 duplicate key error collection: te360.divvy index: _id_ dup key: { _id: \"901A1431D8CED7A5\" }, full error: {'index': 0, 'code': 11000, 'keyPattern': {'_id': 1}, 'keyValue': {'_id': '901A1431D8CED7A5'}, 'errmsg': 'E11000 duplicate key error collection: te360.divvy index: _id_ dup key: { _id: \"901A1431D8CED7A5\" }'}\n",
      "E11000 duplicate key error collection: te360.divvy index: _id_ dup key: { _id: \"74FFBAB75C9D9A85\" }, full error: {'index': 0, 'code': 11000, 'keyPattern': {'_id': 1}, 'keyValue': {'_id': '74FFBAB75C9D9A85'}, 'errmsg': 'E11000 duplicate key error collection: te360.divvy index: _id_ dup key: { _id: \"74FFBAB75C9D9A85\" }'}\n",
      "E11000 duplicate key error collection: te360.divvy index: _id_ dup key: { _id: \"AD04080D5E8797AD\" }, full error: {'index': 0, 'code': 11000, 'keyPattern': {'_id': 1}, 'keyValue': {'_id': 'AD04080D5E8797AD'}, 'errmsg': 'E11000 duplicate key error collection: te360.divvy index: _id_ dup key: { _id: \"AD04080D5E8797AD\" }'}\n",
      "E11000 duplicate key error collection: te360.divvy index: _id_ dup key: { _id: \"765BD3B63F41619A\" }, full error: {'index': 0, 'code': 11000, 'keyPattern': {'_id': 1}, 'keyValue': {'_id': '765BD3B63F41619A'}, 'errmsg': 'E11000 duplicate key error collection: te360.divvy index: _id_ dup key: { _id: \"765BD3B63F41619A\" }'}\n",
      "E11000 duplicate key error collection: te360.divvy index: _id_ dup key: { _id: \"321F7AE3AEDBAA13\" }, full error: {'index': 0, 'code': 11000, 'keyPattern': {'_id': 1}, 'keyValue': {'_id': '321F7AE3AEDBAA13'}, 'errmsg': 'E11000 duplicate key error collection: te360.divvy index: _id_ dup key: { _id: \"321F7AE3AEDBAA13\" }'}\n",
      "E11000 duplicate key error collection: te360.divvy index: _id_ dup key: { _id: \"E395B26B8DBF052F\" }, full error: {'index': 0, 'code': 11000, 'keyPattern': {'_id': 1}, 'keyValue': {'_id': 'E395B26B8DBF052F'}, 'errmsg': 'E11000 duplicate key error collection: te360.divvy index: _id_ dup key: { _id: \"E395B26B8DBF052F\" }'}\n",
      "E11000 duplicate key error collection: te360.divvy index: _id_ dup key: { _id: \"5B6C491CD72EF4FA\" }, full error: {'index': 0, 'code': 11000, 'keyPattern': {'_id': 1}, 'keyValue': {'_id': '5B6C491CD72EF4FA'}, 'errmsg': 'E11000 duplicate key error collection: te360.divvy index: _id_ dup key: { _id: \"5B6C491CD72EF4FA\" }'}\n",
      "E11000 duplicate key error collection: te360.divvy index: _id_ dup key: { _id: \"7ECB5E418A298B9B\" }, full error: {'index': 0, 'code': 11000, 'keyPattern': {'_id': 1}, 'keyValue': {'_id': '7ECB5E418A298B9B'}, 'errmsg': 'E11000 duplicate key error collection: te360.divvy index: _id_ dup key: { _id: \"7ECB5E418A298B9B\" }'}\n",
      "E11000 duplicate key error collection: te360.divvy index: _id_ dup key: { _id: \"C4EC57564F928A97\" }, full error: {'index': 0, 'code': 11000, 'keyPattern': {'_id': 1}, 'keyValue': {'_id': 'C4EC57564F928A97'}, 'errmsg': 'E11000 duplicate key error collection: te360.divvy index: _id_ dup key: { _id: \"C4EC57564F928A97\" }'}\n",
      "E11000 duplicate key error collection: te360.divvy index: _id_ dup key: { _id: \"1C98582D7D902770\" }, full error: {'index': 0, 'code': 11000, 'keyPattern': {'_id': 1}, 'keyValue': {'_id': '1C98582D7D902770'}, 'errmsg': 'E11000 duplicate key error collection: te360.divvy index: _id_ dup key: { _id: \"1C98582D7D902770\" }'}\n",
      "E11000 duplicate key error collection: te360.divvy index: _id_ dup key: { _id: \"CA77A15F96E13176\" }, full error: {'index': 0, 'code': 11000, 'keyPattern': {'_id': 1}, 'keyValue': {'_id': 'CA77A15F96E13176'}, 'errmsg': 'E11000 duplicate key error collection: te360.divvy index: _id_ dup key: { _id: \"CA77A15F96E13176\" }'}\n",
      "E11000 duplicate key error collection: te360.divvy index: _id_ dup key: { _id: \"0E626D426A862789\" }, full error: {'index': 0, 'code': 11000, 'keyPattern': {'_id': 1}, 'keyValue': {'_id': '0E626D426A862789'}, 'errmsg': 'E11000 duplicate key error collection: te360.divvy index: _id_ dup key: { _id: \"0E626D426A862789\" }'}\n",
      "E11000 duplicate key error collection: te360.divvy index: _id_ dup key: { _id: \"5E3AF84B27A66B55\" }, full error: {'index': 0, 'code': 11000, 'keyPattern': {'_id': 1}, 'keyValue': {'_id': '5E3AF84B27A66B55'}, 'errmsg': 'E11000 duplicate key error collection: te360.divvy index: _id_ dup key: { _id: \"5E3AF84B27A66B55\" }'}\n",
      "E11000 duplicate key error collection: te360.divvy index: _id_ dup key: { _id: \"BB4697B59E3FF12A\" }, full error: {'index': 0, 'code': 11000, 'keyPattern': {'_id': 1}, 'keyValue': {'_id': 'BB4697B59E3FF12A'}, 'errmsg': 'E11000 duplicate key error collection: te360.divvy index: _id_ dup key: { _id: \"BB4697B59E3FF12A\" }'}\n",
      "E11000 duplicate key error collection: te360.divvy index: _id_ dup key: { _id: \"23320C9F417B5984\" }, full error: {'index': 0, 'code': 11000, 'keyPattern': {'_id': 1}, 'keyValue': {'_id': '23320C9F417B5984'}, 'errmsg': 'E11000 duplicate key error collection: te360.divvy index: _id_ dup key: { _id: \"23320C9F417B5984\" }'}\n",
      "E11000 duplicate key error collection: te360.divvy index: _id_ dup key: { _id: \"A06081D710E765D1\" }, full error: {'index': 0, 'code': 11000, 'keyPattern': {'_id': 1}, 'keyValue': {'_id': 'A06081D710E765D1'}, 'errmsg': 'E11000 duplicate key error collection: te360.divvy index: _id_ dup key: { _id: \"A06081D710E765D1\" }'}\n",
      "E11000 duplicate key error collection: te360.divvy index: _id_ dup key: { _id: \"7D1024C3481FC715\" }, full error: {'index': 0, 'code': 11000, 'keyPattern': {'_id': 1}, 'keyValue': {'_id': '7D1024C3481FC715'}, 'errmsg': 'E11000 duplicate key error collection: te360.divvy index: _id_ dup key: { _id: \"7D1024C3481FC715\" }'}\n",
      "E11000 duplicate key error collection: te360.divvy index: _id_ dup key: { _id: \"7548F4E07CA53AC6\" }, full error: {'index': 0, 'code': 11000, 'keyPattern': {'_id': 1}, 'keyValue': {'_id': '7548F4E07CA53AC6'}, 'errmsg': 'E11000 duplicate key error collection: te360.divvy index: _id_ dup key: { _id: \"7548F4E07CA53AC6\" }'}\n",
      "E11000 duplicate key error collection: te360.divvy index: _id_ dup key: { _id: \"4C052F67AC07F393\" }, full error: {'index': 0, 'code': 11000, 'keyPattern': {'_id': 1}, 'keyValue': {'_id': '4C052F67AC07F393'}, 'errmsg': 'E11000 duplicate key error collection: te360.divvy index: _id_ dup key: { _id: \"4C052F67AC07F393\" }'}\n",
      "E11000 duplicate key error collection: te360.divvy index: _id_ dup key: { _id: \"4EBFA8DB900D19A0\" }, full error: {'index': 0, 'code': 11000, 'keyPattern': {'_id': 1}, 'keyValue': {'_id': '4EBFA8DB900D19A0'}, 'errmsg': 'E11000 duplicate key error collection: te360.divvy index: _id_ dup key: { _id: \"4EBFA8DB900D19A0\" }'}\n",
      "E11000 duplicate key error collection: te360.divvy index: _id_ dup key: { _id: \"74A6CD02253E3753\" }, full error: {'index': 0, 'code': 11000, 'keyPattern': {'_id': 1}, 'keyValue': {'_id': '74A6CD02253E3753'}, 'errmsg': 'E11000 duplicate key error collection: te360.divvy index: _id_ dup key: { _id: \"74A6CD02253E3753\" }'}\n",
      "E11000 duplicate key error collection: te360.divvy index: _id_ dup key: { _id: \"165F7B547D1CFAC0\" }, full error: {'index': 0, 'code': 11000, 'keyPattern': {'_id': 1}, 'keyValue': {'_id': '165F7B547D1CFAC0'}, 'errmsg': 'E11000 duplicate key error collection: te360.divvy index: _id_ dup key: { _id: \"165F7B547D1CFAC0\" }'}\n",
      "E11000 duplicate key error collection: te360.divvy index: _id_ dup key: { _id: \"2233117C40C5F490\" }, full error: {'index': 0, 'code': 11000, 'keyPattern': {'_id': 1}, 'keyValue': {'_id': '2233117C40C5F490'}, 'errmsg': 'E11000 duplicate key error collection: te360.divvy index: _id_ dup key: { _id: \"2233117C40C5F490\" }'}\n"
     ]
    },
    {
     "name": "stdout",
     "output_type": "stream",
     "text": [
      "E11000 duplicate key error collection: te360.divvy index: _id_ dup key: { _id: \"8AB24E4BDCB90940\" }, full error: {'index': 0, 'code': 11000, 'keyPattern': {'_id': 1}, 'keyValue': {'_id': '8AB24E4BDCB90940'}, 'errmsg': 'E11000 duplicate key error collection: te360.divvy index: _id_ dup key: { _id: \"8AB24E4BDCB90940\" }'}\n",
      "E11000 duplicate key error collection: te360.divvy index: _id_ dup key: { _id: \"6AF808055D3CD280\" }, full error: {'index': 0, 'code': 11000, 'keyPattern': {'_id': 1}, 'keyValue': {'_id': '6AF808055D3CD280'}, 'errmsg': 'E11000 duplicate key error collection: te360.divvy index: _id_ dup key: { _id: \"6AF808055D3CD280\" }'}\n",
      "E11000 duplicate key error collection: te360.divvy index: _id_ dup key: { _id: \"A02255629A1C77CB\" }, full error: {'index': 0, 'code': 11000, 'keyPattern': {'_id': 1}, 'keyValue': {'_id': 'A02255629A1C77CB'}, 'errmsg': 'E11000 duplicate key error collection: te360.divvy index: _id_ dup key: { _id: \"A02255629A1C77CB\" }'}\n",
      "E11000 duplicate key error collection: te360.divvy index: _id_ dup key: { _id: \"0425DA22910BD202\" }, full error: {'index': 0, 'code': 11000, 'keyPattern': {'_id': 1}, 'keyValue': {'_id': '0425DA22910BD202'}, 'errmsg': 'E11000 duplicate key error collection: te360.divvy index: _id_ dup key: { _id: \"0425DA22910BD202\" }'}\n",
      "E11000 duplicate key error collection: te360.divvy index: _id_ dup key: { _id: \"BC0BF5FBCC69DF2B\" }, full error: {'index': 0, 'code': 11000, 'keyPattern': {'_id': 1}, 'keyValue': {'_id': 'BC0BF5FBCC69DF2B'}, 'errmsg': 'E11000 duplicate key error collection: te360.divvy index: _id_ dup key: { _id: \"BC0BF5FBCC69DF2B\" }'}\n",
      "E11000 duplicate key error collection: te360.divvy index: _id_ dup key: { _id: \"0A4365A64FF49318\" }, full error: {'index': 0, 'code': 11000, 'keyPattern': {'_id': 1}, 'keyValue': {'_id': '0A4365A64FF49318'}, 'errmsg': 'E11000 duplicate key error collection: te360.divvy index: _id_ dup key: { _id: \"0A4365A64FF49318\" }'}\n",
      "E11000 duplicate key error collection: te360.divvy index: _id_ dup key: { _id: \"0D2F17BB81A7EBEA\" }, full error: {'index': 0, 'code': 11000, 'keyPattern': {'_id': 1}, 'keyValue': {'_id': '0D2F17BB81A7EBEA'}, 'errmsg': 'E11000 duplicate key error collection: te360.divvy index: _id_ dup key: { _id: \"0D2F17BB81A7EBEA\" }'}\n",
      "E11000 duplicate key error collection: te360.divvy index: _id_ dup key: { _id: \"CC40068D416EC93F\" }, full error: {'index': 0, 'code': 11000, 'keyPattern': {'_id': 1}, 'keyValue': {'_id': 'CC40068D416EC93F'}, 'errmsg': 'E11000 duplicate key error collection: te360.divvy index: _id_ dup key: { _id: \"CC40068D416EC93F\" }'}\n",
      "E11000 duplicate key error collection: te360.divvy index: _id_ dup key: { _id: \"BAD24698A94F6CC1\" }, full error: {'index': 0, 'code': 11000, 'keyPattern': {'_id': 1}, 'keyValue': {'_id': 'BAD24698A94F6CC1'}, 'errmsg': 'E11000 duplicate key error collection: te360.divvy index: _id_ dup key: { _id: \"BAD24698A94F6CC1\" }'}\n",
      "E11000 duplicate key error collection: te360.divvy index: _id_ dup key: { _id: \"F1D30F753DEE73F4\" }, full error: {'index': 0, 'code': 11000, 'keyPattern': {'_id': 1}, 'keyValue': {'_id': 'F1D30F753DEE73F4'}, 'errmsg': 'E11000 duplicate key error collection: te360.divvy index: _id_ dup key: { _id: \"F1D30F753DEE73F4\" }'}\n",
      "E11000 duplicate key error collection: te360.divvy index: _id_ dup key: { _id: \"33859D20A072EB2E\" }, full error: {'index': 0, 'code': 11000, 'keyPattern': {'_id': 1}, 'keyValue': {'_id': '33859D20A072EB2E'}, 'errmsg': 'E11000 duplicate key error collection: te360.divvy index: _id_ dup key: { _id: \"33859D20A072EB2E\" }'}\n",
      "E11000 duplicate key error collection: te360.divvy index: _id_ dup key: { _id: \"9972AB4C17796353\" }, full error: {'index': 0, 'code': 11000, 'keyPattern': {'_id': 1}, 'keyValue': {'_id': '9972AB4C17796353'}, 'errmsg': 'E11000 duplicate key error collection: te360.divvy index: _id_ dup key: { _id: \"9972AB4C17796353\" }'}\n",
      "E11000 duplicate key error collection: te360.divvy index: _id_ dup key: { _id: \"B634883EB8C7F224\" }, full error: {'index': 0, 'code': 11000, 'keyPattern': {'_id': 1}, 'keyValue': {'_id': 'B634883EB8C7F224'}, 'errmsg': 'E11000 duplicate key error collection: te360.divvy index: _id_ dup key: { _id: \"B634883EB8C7F224\" }'}\n",
      "E11000 duplicate key error collection: te360.divvy index: _id_ dup key: { _id: \"907A7B909C3065E8\" }, full error: {'index': 0, 'code': 11000, 'keyPattern': {'_id': 1}, 'keyValue': {'_id': '907A7B909C3065E8'}, 'errmsg': 'E11000 duplicate key error collection: te360.divvy index: _id_ dup key: { _id: \"907A7B909C3065E8\" }'}\n",
      "E11000 duplicate key error collection: te360.divvy index: _id_ dup key: { _id: \"29A5063EED77B728\" }, full error: {'index': 0, 'code': 11000, 'keyPattern': {'_id': 1}, 'keyValue': {'_id': '29A5063EED77B728'}, 'errmsg': 'E11000 duplicate key error collection: te360.divvy index: _id_ dup key: { _id: \"29A5063EED77B728\" }'}\n",
      "E11000 duplicate key error collection: te360.divvy index: _id_ dup key: { _id: \"7029018039FE783C\" }, full error: {'index': 0, 'code': 11000, 'keyPattern': {'_id': 1}, 'keyValue': {'_id': '7029018039FE783C'}, 'errmsg': 'E11000 duplicate key error collection: te360.divvy index: _id_ dup key: { _id: \"7029018039FE783C\" }'}\n",
      "E11000 duplicate key error collection: te360.divvy index: _id_ dup key: { _id: \"461DB5E36ADBF190\" }, full error: {'index': 0, 'code': 11000, 'keyPattern': {'_id': 1}, 'keyValue': {'_id': '461DB5E36ADBF190'}, 'errmsg': 'E11000 duplicate key error collection: te360.divvy index: _id_ dup key: { _id: \"461DB5E36ADBF190\" }'}\n",
      "E11000 duplicate key error collection: te360.divvy index: _id_ dup key: { _id: \"1C056F8AB4E72F09\" }, full error: {'index': 0, 'code': 11000, 'keyPattern': {'_id': 1}, 'keyValue': {'_id': '1C056F8AB4E72F09'}, 'errmsg': 'E11000 duplicate key error collection: te360.divvy index: _id_ dup key: { _id: \"1C056F8AB4E72F09\" }'}\n",
      "E11000 duplicate key error collection: te360.divvy index: _id_ dup key: { _id: \"DA76509FC11F3564\" }, full error: {'index': 0, 'code': 11000, 'keyPattern': {'_id': 1}, 'keyValue': {'_id': 'DA76509FC11F3564'}, 'errmsg': 'E11000 duplicate key error collection: te360.divvy index: _id_ dup key: { _id: \"DA76509FC11F3564\" }'}\n",
      "E11000 duplicate key error collection: te360.divvy index: _id_ dup key: { _id: \"7E1C776BE54E1D14\" }, full error: {'index': 0, 'code': 11000, 'keyPattern': {'_id': 1}, 'keyValue': {'_id': '7E1C776BE54E1D14'}, 'errmsg': 'E11000 duplicate key error collection: te360.divvy index: _id_ dup key: { _id: \"7E1C776BE54E1D14\" }'}\n",
      "E11000 duplicate key error collection: te360.divvy index: _id_ dup key: { _id: \"9E6A422E4B6BA92A\" }, full error: {'index': 0, 'code': 11000, 'keyPattern': {'_id': 1}, 'keyValue': {'_id': '9E6A422E4B6BA92A'}, 'errmsg': 'E11000 duplicate key error collection: te360.divvy index: _id_ dup key: { _id: \"9E6A422E4B6BA92A\" }'}\n",
      "E11000 duplicate key error collection: te360.divvy index: _id_ dup key: { _id: \"63EBA1B194A4AA88\" }, full error: {'index': 0, 'code': 11000, 'keyPattern': {'_id': 1}, 'keyValue': {'_id': '63EBA1B194A4AA88'}, 'errmsg': 'E11000 duplicate key error collection: te360.divvy index: _id_ dup key: { _id: \"63EBA1B194A4AA88\" }'}\n",
      "E11000 duplicate key error collection: te360.divvy index: _id_ dup key: { _id: \"C8B94BC7DD092920\" }, full error: {'index': 0, 'code': 11000, 'keyPattern': {'_id': 1}, 'keyValue': {'_id': 'C8B94BC7DD092920'}, 'errmsg': 'E11000 duplicate key error collection: te360.divvy index: _id_ dup key: { _id: \"C8B94BC7DD092920\" }'}\n",
      "E11000 duplicate key error collection: te360.divvy index: _id_ dup key: { _id: \"C5F61FDE4B5B9D17\" }, full error: {'index': 0, 'code': 11000, 'keyPattern': {'_id': 1}, 'keyValue': {'_id': 'C5F61FDE4B5B9D17'}, 'errmsg': 'E11000 duplicate key error collection: te360.divvy index: _id_ dup key: { _id: \"C5F61FDE4B5B9D17\" }'}\n",
      "E11000 duplicate key error collection: te360.divvy index: _id_ dup key: { _id: \"C30749739FC2AB76\" }, full error: {'index': 0, 'code': 11000, 'keyPattern': {'_id': 1}, 'keyValue': {'_id': 'C30749739FC2AB76'}, 'errmsg': 'E11000 duplicate key error collection: te360.divvy index: _id_ dup key: { _id: \"C30749739FC2AB76\" }'}\n",
      "E11000 duplicate key error collection: te360.divvy index: _id_ dup key: { _id: \"71D889A3D2174E79\" }, full error: {'index': 0, 'code': 11000, 'keyPattern': {'_id': 1}, 'keyValue': {'_id': '71D889A3D2174E79'}, 'errmsg': 'E11000 duplicate key error collection: te360.divvy index: _id_ dup key: { _id: \"71D889A3D2174E79\" }'}\n",
      "E11000 duplicate key error collection: te360.divvy index: _id_ dup key: { _id: \"AA12FC6B678AD597\" }, full error: {'index': 0, 'code': 11000, 'keyPattern': {'_id': 1}, 'keyValue': {'_id': 'AA12FC6B678AD597'}, 'errmsg': 'E11000 duplicate key error collection: te360.divvy index: _id_ dup key: { _id: \"AA12FC6B678AD597\" }'}\n"
     ]
    },
    {
     "name": "stdout",
     "output_type": "stream",
     "text": [
      "E11000 duplicate key error collection: te360.divvy index: _id_ dup key: { _id: \"05498BABECEB55B0\" }, full error: {'index': 0, 'code': 11000, 'keyPattern': {'_id': 1}, 'keyValue': {'_id': '05498BABECEB55B0'}, 'errmsg': 'E11000 duplicate key error collection: te360.divvy index: _id_ dup key: { _id: \"05498BABECEB55B0\" }'}\n",
      "E11000 duplicate key error collection: te360.divvy index: _id_ dup key: { _id: \"69D4D06FA52B1016\" }, full error: {'index': 0, 'code': 11000, 'keyPattern': {'_id': 1}, 'keyValue': {'_id': '69D4D06FA52B1016'}, 'errmsg': 'E11000 duplicate key error collection: te360.divvy index: _id_ dup key: { _id: \"69D4D06FA52B1016\" }'}\n",
      "E11000 duplicate key error collection: te360.divvy index: _id_ dup key: { _id: \"50031BC4290040DF\" }, full error: {'index': 0, 'code': 11000, 'keyPattern': {'_id': 1}, 'keyValue': {'_id': '50031BC4290040DF'}, 'errmsg': 'E11000 duplicate key error collection: te360.divvy index: _id_ dup key: { _id: \"50031BC4290040DF\" }'}\n",
      "E11000 duplicate key error collection: te360.divvy index: _id_ dup key: { _id: \"AD437448222E3301\" }, full error: {'index': 0, 'code': 11000, 'keyPattern': {'_id': 1}, 'keyValue': {'_id': 'AD437448222E3301'}, 'errmsg': 'E11000 duplicate key error collection: te360.divvy index: _id_ dup key: { _id: \"AD437448222E3301\" }'}\n",
      "E11000 duplicate key error collection: te360.divvy index: _id_ dup key: { _id: \"356CDAEABC16654A\" }, full error: {'index': 0, 'code': 11000, 'keyPattern': {'_id': 1}, 'keyValue': {'_id': '356CDAEABC16654A'}, 'errmsg': 'E11000 duplicate key error collection: te360.divvy index: _id_ dup key: { _id: \"356CDAEABC16654A\" }'}\n",
      "E11000 duplicate key error collection: te360.divvy index: _id_ dup key: { _id: \"7278BBD33ACDBC38\" }, full error: {'index': 0, 'code': 11000, 'keyPattern': {'_id': 1}, 'keyValue': {'_id': '7278BBD33ACDBC38'}, 'errmsg': 'E11000 duplicate key error collection: te360.divvy index: _id_ dup key: { _id: \"7278BBD33ACDBC38\" }'}\n",
      "E11000 duplicate key error collection: te360.divvy index: _id_ dup key: { _id: \"6A6C1134491E8C06\" }, full error: {'index': 0, 'code': 11000, 'keyPattern': {'_id': 1}, 'keyValue': {'_id': '6A6C1134491E8C06'}, 'errmsg': 'E11000 duplicate key error collection: te360.divvy index: _id_ dup key: { _id: \"6A6C1134491E8C06\" }'}\n",
      "E11000 duplicate key error collection: te360.divvy index: _id_ dup key: { _id: \"BAF05E764E310B11\" }, full error: {'index': 0, 'code': 11000, 'keyPattern': {'_id': 1}, 'keyValue': {'_id': 'BAF05E764E310B11'}, 'errmsg': 'E11000 duplicate key error collection: te360.divvy index: _id_ dup key: { _id: \"BAF05E764E310B11\" }'}\n",
      "E11000 duplicate key error collection: te360.divvy index: _id_ dup key: { _id: \"6C4A286E978E31B7\" }, full error: {'index': 0, 'code': 11000, 'keyPattern': {'_id': 1}, 'keyValue': {'_id': '6C4A286E978E31B7'}, 'errmsg': 'E11000 duplicate key error collection: te360.divvy index: _id_ dup key: { _id: \"6C4A286E978E31B7\" }'}\n",
      "E11000 duplicate key error collection: te360.divvy index: _id_ dup key: { _id: \"DAC776CD90DB9D98\" }, full error: {'index': 0, 'code': 11000, 'keyPattern': {'_id': 1}, 'keyValue': {'_id': 'DAC776CD90DB9D98'}, 'errmsg': 'E11000 duplicate key error collection: te360.divvy index: _id_ dup key: { _id: \"DAC776CD90DB9D98\" }'}\n",
      "E11000 duplicate key error collection: te360.divvy index: _id_ dup key: { _id: \"5A0D169EFA5A7C4A\" }, full error: {'index': 0, 'code': 11000, 'keyPattern': {'_id': 1}, 'keyValue': {'_id': '5A0D169EFA5A7C4A'}, 'errmsg': 'E11000 duplicate key error collection: te360.divvy index: _id_ dup key: { _id: \"5A0D169EFA5A7C4A\" }'}\n",
      "E11000 duplicate key error collection: te360.divvy index: _id_ dup key: { _id: \"2338C9919E9781DC\" }, full error: {'index': 0, 'code': 11000, 'keyPattern': {'_id': 1}, 'keyValue': {'_id': '2338C9919E9781DC'}, 'errmsg': 'E11000 duplicate key error collection: te360.divvy index: _id_ dup key: { _id: \"2338C9919E9781DC\" }'}\n",
      "E11000 duplicate key error collection: te360.divvy index: _id_ dup key: { _id: \"AE0F8255162BBD39\" }, full error: {'index': 0, 'code': 11000, 'keyPattern': {'_id': 1}, 'keyValue': {'_id': 'AE0F8255162BBD39'}, 'errmsg': 'E11000 duplicate key error collection: te360.divvy index: _id_ dup key: { _id: \"AE0F8255162BBD39\" }'}\n",
      "E11000 duplicate key error collection: te360.divvy index: _id_ dup key: { _id: \"8FE484F4002A8D95\" }, full error: {'index': 0, 'code': 11000, 'keyPattern': {'_id': 1}, 'keyValue': {'_id': '8FE484F4002A8D95'}, 'errmsg': 'E11000 duplicate key error collection: te360.divvy index: _id_ dup key: { _id: \"8FE484F4002A8D95\" }'}\n",
      "E11000 duplicate key error collection: te360.divvy index: _id_ dup key: { _id: \"194FB266E3663610\" }, full error: {'index': 0, 'code': 11000, 'keyPattern': {'_id': 1}, 'keyValue': {'_id': '194FB266E3663610'}, 'errmsg': 'E11000 duplicate key error collection: te360.divvy index: _id_ dup key: { _id: \"194FB266E3663610\" }'}\n",
      "E11000 duplicate key error collection: te360.divvy index: _id_ dup key: { _id: \"7247F76EE11C8B97\" }, full error: {'index': 0, 'code': 11000, 'keyPattern': {'_id': 1}, 'keyValue': {'_id': '7247F76EE11C8B97'}, 'errmsg': 'E11000 duplicate key error collection: te360.divvy index: _id_ dup key: { _id: \"7247F76EE11C8B97\" }'}\n",
      "E11000 duplicate key error collection: te360.divvy index: _id_ dup key: { _id: \"87D4C892CA85DB8F\" }, full error: {'index': 0, 'code': 11000, 'keyPattern': {'_id': 1}, 'keyValue': {'_id': '87D4C892CA85DB8F'}, 'errmsg': 'E11000 duplicate key error collection: te360.divvy index: _id_ dup key: { _id: \"87D4C892CA85DB8F\" }'}\n",
      "E11000 duplicate key error collection: te360.divvy index: _id_ dup key: { _id: \"84EEACD1FE641F30\" }, full error: {'index': 0, 'code': 11000, 'keyPattern': {'_id': 1}, 'keyValue': {'_id': '84EEACD1FE641F30'}, 'errmsg': 'E11000 duplicate key error collection: te360.divvy index: _id_ dup key: { _id: \"84EEACD1FE641F30\" }'}\n",
      "E11000 duplicate key error collection: te360.divvy index: _id_ dup key: { _id: \"47E0C01E8F7BD830\" }, full error: {'index': 0, 'code': 11000, 'keyPattern': {'_id': 1}, 'keyValue': {'_id': '47E0C01E8F7BD830'}, 'errmsg': 'E11000 duplicate key error collection: te360.divvy index: _id_ dup key: { _id: \"47E0C01E8F7BD830\" }'}\n",
      "E11000 duplicate key error collection: te360.divvy index: _id_ dup key: { _id: \"332340BB61D42B3C\" }, full error: {'index': 0, 'code': 11000, 'keyPattern': {'_id': 1}, 'keyValue': {'_id': '332340BB61D42B3C'}, 'errmsg': 'E11000 duplicate key error collection: te360.divvy index: _id_ dup key: { _id: \"332340BB61D42B3C\" }'}\n",
      "E11000 duplicate key error collection: te360.divvy index: _id_ dup key: { _id: \"6C1279812BD9D0C2\" }, full error: {'index': 0, 'code': 11000, 'keyPattern': {'_id': 1}, 'keyValue': {'_id': '6C1279812BD9D0C2'}, 'errmsg': 'E11000 duplicate key error collection: te360.divvy index: _id_ dup key: { _id: \"6C1279812BD9D0C2\" }'}\n",
      "E11000 duplicate key error collection: te360.divvy index: _id_ dup key: { _id: \"5EE680AA8D46F8B8\" }, full error: {'index': 0, 'code': 11000, 'keyPattern': {'_id': 1}, 'keyValue': {'_id': '5EE680AA8D46F8B8'}, 'errmsg': 'E11000 duplicate key error collection: te360.divvy index: _id_ dup key: { _id: \"5EE680AA8D46F8B8\" }'}\n",
      "E11000 duplicate key error collection: te360.divvy index: _id_ dup key: { _id: \"286E58C4B46877DE\" }, full error: {'index': 0, 'code': 11000, 'keyPattern': {'_id': 1}, 'keyValue': {'_id': '286E58C4B46877DE'}, 'errmsg': 'E11000 duplicate key error collection: te360.divvy index: _id_ dup key: { _id: \"286E58C4B46877DE\" }'}\n",
      "E11000 duplicate key error collection: te360.divvy index: _id_ dup key: { _id: \"7074FF42B83EC6AD\" }, full error: {'index': 0, 'code': 11000, 'keyPattern': {'_id': 1}, 'keyValue': {'_id': '7074FF42B83EC6AD'}, 'errmsg': 'E11000 duplicate key error collection: te360.divvy index: _id_ dup key: { _id: \"7074FF42B83EC6AD\" }'}\n",
      "E11000 duplicate key error collection: te360.divvy index: _id_ dup key: { _id: \"70F458C5AAE4C49F\" }, full error: {'index': 0, 'code': 11000, 'keyPattern': {'_id': 1}, 'keyValue': {'_id': '70F458C5AAE4C49F'}, 'errmsg': 'E11000 duplicate key error collection: te360.divvy index: _id_ dup key: { _id: \"70F458C5AAE4C49F\" }'}\n",
      "Inserted 131364 rides from 202012-divvy-tripdata.csv.\n",
      "Inserted 96834 rides from 202101-divvy-tripdata.csv.\n",
      "Inserted 49622 rides from 202102-divvy-tripdata.csv.\n",
      "Inserted 228496 rides from 202103-divvy-tripdata.csv.\n"
     ]
    },
    {
     "name": "stdout",
     "output_type": "stream",
     "text": [
      "Inserted 426887 rides from Divvy_Trips_2020_Q1.csv.\n"
     ]
    }
   ],
   "source": [
    "for file in files:\n",
    "    frame = pd.read_csv(file)\n",
    "    \n",
    "    count = 0\n",
    "    \n",
    "    for _, ride in frame.iterrows():\n",
    "        ride_json = {\n",
    "            \"_id\": ride.ride_id,\n",
    "            \"type\": ride.rideable_type,\n",
    "            \"rider\": ride.member_casual,\n",
    "            \n",
    "            \"start\": ride.started_at,\n",
    "            \"start_station\": ride.start_station_name,\n",
    "            \"start_station_id\": ride.start_station_id,\n",
    "            \"start_lat\": ride.start_lat,\n",
    "            \"start_lon\": ride.start_lng,\n",
    "            \n",
    "            \"end\": ride.ended_at,\n",
    "            \"end_station\": ride.end_station_name,\n",
    "            \"end_station_id\": ride.end_station_id,\n",
    "            \"end_lat\": ride.end_lat,\n",
    "            \"end_lon\": ride.end_lng\n",
    "        }\n",
    "        \n",
    "        try: \n",
    "            client.te360.divvy.insert_one(ride_json)\n",
    "            count += 1\n",
    "        except Exception as e:\n",
    "            print(e)\n",
    "            pass\n",
    "        \n",
    "    print(f\"Inserted {count} rides from {os.path.basename(file)}.\")"
   ]
  },
  {
   "cell_type": "code",
   "execution_count": 58,
   "metadata": {},
   "outputs": [],
   "source": [
    "client.te360.divvy.drop()"
   ]
  },
  {
   "cell_type": "code",
   "execution_count": 63,
   "metadata": {},
   "outputs": [
    {
     "data": {
      "text/plain": [
       "3916426"
      ]
     },
     "execution_count": 63,
     "metadata": {},
     "output_type": "execute_result"
    }
   ],
   "source": [
    "len(list(client.te360.divvy.find({})))"
   ]
  },
  {
   "cell_type": "code",
   "execution_count": null,
   "metadata": {},
   "outputs": [],
   "source": []
  }
 ],
 "metadata": {
  "kernelspec": {
   "display_name": "Python 3",
   "language": "python",
   "name": "python3"
  },
  "language_info": {
   "codemirror_mode": {
    "name": "ipython",
    "version": 3
   },
   "file_extension": ".py",
   "mimetype": "text/x-python",
   "name": "python",
   "nbconvert_exporter": "python",
   "pygments_lexer": "ipython3",
   "version": "3.8.5"
  }
 },
 "nbformat": 4,
 "nbformat_minor": 4
}
